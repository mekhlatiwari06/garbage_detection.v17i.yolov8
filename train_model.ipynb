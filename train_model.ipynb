{
 "cells": [
  {
   "cell_type": "code",
   "execution_count": null,
   "id": "1303662a",
   "metadata": {},
   "outputs": [],
   "source": [
    "import os\n",
    "os.environ[\"KMP_DUPLICATE_LIB_OK\"] = \"TRUE\""
   ]
  },
  {
   "cell_type": "code",
   "execution_count": null,
   "id": "28da7792",
   "metadata": {},
   "outputs": [],
   "source": [
    "from ultralytics import YOLO"
   ]
  },
  {
   "cell_type": "code",
   "execution_count": null,
   "id": "cecfe635",
   "metadata": {},
   "outputs": [],
   "source": [
    "import cv2\n",
    "import json\n",
    "import numpy as np"
   ]
  },
  {
   "cell_type": "code",
   "execution_count": null,
   "id": "d28d8c80",
   "metadata": {},
   "outputs": [],
   "source": [
    "model = YOLO('yolov8n.pt')"
   ]
  },
  {
   "cell_type": "code",
   "execution_count": null,
   "id": "b7768cdf",
   "metadata": {},
   "outputs": [
    {
     "name": "stdout",
     "output_type": "stream",
     "text": [
      "Ultralytics 8.3.141  Python-3.10.9 torch-2.7.0+cpu CPU (Intel Xeon Silver 4114 2.20GHz)\n",
      "\u001b[34m\u001b[1mengine\\trainer: \u001b[0magnostic_nms=False, amp=True, augment=False, auto_augment=randaugment, batch=-1, bgr=0.0, box=7.5, cache=True, cfg=None, classes=None, close_mosaic=10, cls=0.5, conf=None, copy_paste=0.0, copy_paste_mode=flip, cos_lr=False, cutmix=0.0, data=data.yaml, degrees=0.0, deterministic=True, device=cpu, dfl=1.5, dnn=False, dropout=0.0, dynamic=False, embed=None, epochs=40, erasing=0.4, exist_ok=False, fliplr=0.5, flipud=0.0, format=torchscript, fraction=1.0, freeze=None, half=False, hsv_h=0.015, hsv_s=0.7, hsv_v=0.4, imgsz=640, int8=False, iou=0.7, keras=False, kobj=1.0, line_width=None, lr0=0.01, lrf=0.01, mask_ratio=4, max_det=300, mixup=0.0, mode=train, model=yolov8n.pt, momentum=0.937, mosaic=1.0, multi_scale=False, name=yolov8n6, nbs=64, nms=False, opset=None, optimize=False, optimizer=auto, overlap_mask=True, patience=100, perspective=0.0, plots=True, pose=12.0, pretrained=True, profile=False, project=garbage_detection, rect=False, resume=False, retina_masks=False, save=True, save_conf=False, save_crop=False, save_dir=garbage_detection\\yolov8n6, save_frames=False, save_json=False, save_period=10, save_txt=False, scale=0.5, seed=0, shear=0.0, show=False, show_boxes=True, show_conf=True, show_labels=True, simplify=True, single_cls=False, source=None, split=val, stream_buffer=False, task=detect, time=None, tracker=botsort.yaml, translate=0.1, val=True, verbose=True, vid_stride=1, visualize=False, warmup_bias_lr=0.1, warmup_epochs=3.0, warmup_momentum=0.8, weight_decay=0.0005, workers=8, workspace=None\n",
      "\n",
      "                   from  n    params  module                                       arguments                     \n",
      "  0                  -1  1       464  ultralytics.nn.modules.conv.Conv             [3, 16, 3, 2]                 \n",
      "  1                  -1  1      4672  ultralytics.nn.modules.conv.Conv             [16, 32, 3, 2]                \n",
      "  2                  -1  1      7360  ultralytics.nn.modules.block.C2f             [32, 32, 1, True]             \n",
      "  3                  -1  1     18560  ultralytics.nn.modules.conv.Conv             [32, 64, 3, 2]                \n",
      "  4                  -1  2     49664  ultralytics.nn.modules.block.C2f             [64, 64, 2, True]             \n",
      "  5                  -1  1     73984  ultralytics.nn.modules.conv.Conv             [64, 128, 3, 2]               \n",
      "  6                  -1  2    197632  ultralytics.nn.modules.block.C2f             [128, 128, 2, True]           \n",
      "  7                  -1  1    295424  ultralytics.nn.modules.conv.Conv             [128, 256, 3, 2]              \n",
      "  8                  -1  1    460288  ultralytics.nn.modules.block.C2f             [256, 256, 1, True]           \n",
      "  9                  -1  1    164608  ultralytics.nn.modules.block.SPPF            [256, 256, 5]                 \n",
      " 10                  -1  1         0  torch.nn.modules.upsampling.Upsample         [None, 2, 'nearest']          \n",
      " 11             [-1, 6]  1         0  ultralytics.nn.modules.conv.Concat           [1]                           \n",
      " 12                  -1  1    148224  ultralytics.nn.modules.block.C2f             [384, 128, 1]                 \n",
      " 13                  -1  1         0  torch.nn.modules.upsampling.Upsample         [None, 2, 'nearest']          \n",
      " 14             [-1, 4]  1         0  ultralytics.nn.modules.conv.Concat           [1]                           \n",
      " 15                  -1  1     37248  ultralytics.nn.modules.block.C2f             [192, 64, 1]                  \n",
      " 16                  -1  1     36992  ultralytics.nn.modules.conv.Conv             [64, 64, 3, 2]                \n",
      " 17            [-1, 12]  1         0  ultralytics.nn.modules.conv.Concat           [1]                           \n",
      " 18                  -1  1    123648  ultralytics.nn.modules.block.C2f             [192, 128, 1]                 \n",
      " 19                  -1  1    147712  ultralytics.nn.modules.conv.Conv             [128, 128, 3, 2]              \n",
      " 20             [-1, 9]  1         0  ultralytics.nn.modules.conv.Concat           [1]                           \n",
      " 21                  -1  1    493056  ultralytics.nn.modules.block.C2f             [384, 256, 1]                 \n",
      " 22        [15, 18, 21]  1    751507  ultralytics.nn.modules.head.Detect           [1, [64, 128, 256]]           \n",
      "Model summary: 129 layers, 3,011,043 parameters, 3,011,027 gradients, 8.2 GFLOPs\n",
      "\n",
      "Transferred 355/355 items from pretrained weights\n",
      "Freezing layer 'model.22.dfl.conv.weight'\n",
      "\u001b[34m\u001b[1mtrain: \u001b[0mFast image access  (ping: 0.10.0 ms, read: 317.4136.4 MB/s, size: 91.4 KB)\n"
     ]
    },
    {
     "name": "stderr",
     "output_type": "stream",
     "text": [
      "\u001b[34m\u001b[1mtrain: \u001b[0mScanning C:\\Users\\Gurudattaverma\\Desktop\\garbage_detection\\train\\labels.cache... 3669 images, 210 backgrounds, 0 corrupt: 100%|██████████| 3669/3669 [00:00<?, ?it/s]"
     ]
    },
    {
     "name": "stdout",
     "output_type": "stream",
     "text": [
      "WARNING Box and segment counts should be equal, but got len(segments) = 6, len(boxes) = 3933. To resolve this only boxes will be used and all segments will be removed. To avoid this please supply either a detect or segment dataset, not a detect-segment mixed dataset.\n"
     ]
    },
    {
     "name": "stderr",
     "output_type": "stream",
     "text": [
      "\n"
     ]
    },
    {
     "name": "stdout",
     "output_type": "stream",
     "text": [
      "WARNING cache='ram' may produce non-deterministic training results. Consider cache='disk' as a deterministic alternative if your disk space allows.\n"
     ]
    },
    {
     "name": "stderr",
     "output_type": "stream",
     "text": [
      "\u001b[34m\u001b[1mtrain: \u001b[0mCaching images (4.2GB RAM): 100%|██████████| 3669/3669 [00:04<00:00, 837.40it/s]\n"
     ]
    },
    {
     "name": "stdout",
     "output_type": "stream",
     "text": [
      "\u001b[34m\u001b[1mAutoBatch: \u001b[0mComputing optimal batch size for imgsz=640 at 60.0% CUDA memory utilization.\n",
      "WARNING \u001b[34m\u001b[1mAutoBatch: \u001b[0mintended for CUDA devices, using default batch-size 16\n",
      "\u001b[34m\u001b[1mtrain: \u001b[0mFast image access  (ping: 0.10.0 ms, read: 358.8152.5 MB/s, size: 78.2 KB)\n"
     ]
    },
    {
     "name": "stderr",
     "output_type": "stream",
     "text": [
      "\u001b[34m\u001b[1mtrain: \u001b[0mScanning C:\\Users\\Gurudattaverma\\Desktop\\garbage_detection\\train\\labels.cache... 3669 images, 210 backgrounds, 0 corrupt: 100%|██████████| 3669/3669 [00:00<?, ?it/s]"
     ]
    },
    {
     "name": "stdout",
     "output_type": "stream",
     "text": [
      "WARNING Box and segment counts should be equal, but got len(segments) = 6, len(boxes) = 3933. To resolve this only boxes will be used and all segments will be removed. To avoid this please supply either a detect or segment dataset, not a detect-segment mixed dataset.\n"
     ]
    },
    {
     "name": "stderr",
     "output_type": "stream",
     "text": [
      "\n"
     ]
    },
    {
     "name": "stdout",
     "output_type": "stream",
     "text": [
      "WARNING cache='ram' may produce non-deterministic training results. Consider cache='disk' as a deterministic alternative if your disk space allows.\n"
     ]
    },
    {
     "name": "stderr",
     "output_type": "stream",
     "text": [
      "\u001b[34m\u001b[1mtrain: \u001b[0mCaching images (4.2GB RAM): 100%|██████████| 3669/3669 [00:04<00:00, 865.64it/s]"
     ]
    },
    {
     "name": "stdout",
     "output_type": "stream",
     "text": [
      "\u001b[34m\u001b[1mval: \u001b[0mFast image access  (ping: 0.10.0 ms, read: 415.4125.0 MB/s, size: 85.5 KB)\n"
     ]
    },
    {
     "name": "stderr",
     "output_type": "stream",
     "text": [
      "\n",
      "C:\\Users\\Gurudattaverma\\AppData\\Roaming\\Python\\Python310\\site-packages\\torch\\utils\\data\\dataloader.py:665: UserWarning: 'pin_memory' argument is set as true but no accelerator is found, then device pinned memory won't be used.\n",
      "  warnings.warn(warn_msg)\n",
      "\u001b[34m\u001b[1mval: \u001b[0mScanning C:\\Users\\Gurudattaverma\\Desktop\\garbage_detection\\valid\\labels.cache... 260 images, 8 backgrounds, 0 corrupt: 100%|██████████| 260/260 [00:00<?, ?it/s]"
     ]
    },
    {
     "name": "stdout",
     "output_type": "stream",
     "text": [
      "WARNING Box and segment counts should be equal, but got len(segments) = 2, len(boxes) = 271. To resolve this only boxes will be used and all segments will be removed. To avoid this please supply either a detect or segment dataset, not a detect-segment mixed dataset.\n"
     ]
    },
    {
     "name": "stderr",
     "output_type": "stream",
     "text": [
      "\n"
     ]
    },
    {
     "name": "stdout",
     "output_type": "stream",
     "text": [
      "WARNING cache='ram' may produce non-deterministic training results. Consider cache='disk' as a deterministic alternative if your disk space allows.\n"
     ]
    },
    {
     "name": "stderr",
     "output_type": "stream",
     "text": [
      "\u001b[34m\u001b[1mval: \u001b[0mCaching images (0.3GB RAM): 100%|██████████| 260/260 [00:00<00:00, 838.43it/s]"
     ]
    },
    {
     "name": "stdout",
     "output_type": "stream",
     "text": [
      "Plotting labels to garbage_detection\\yolov8n6\\labels.jpg... \n"
     ]
    },
    {
     "name": "stderr",
     "output_type": "stream",
     "text": [
      "\n",
      "C:\\Users\\Gurudattaverma\\AppData\\Roaming\\Python\\Python310\\site-packages\\torch\\utils\\data\\dataloader.py:665: UserWarning: 'pin_memory' argument is set as true but no accelerator is found, then device pinned memory won't be used.\n",
      "  warnings.warn(warn_msg)\n"
     ]
    },
    {
     "name": "stdout",
     "output_type": "stream",
     "text": [
      "\u001b[34m\u001b[1moptimizer:\u001b[0m 'optimizer=auto' found, ignoring 'lr0=0.01' and 'momentum=0.937' and determining best 'optimizer', 'lr0' and 'momentum' automatically... \n",
      "\u001b[34m\u001b[1moptimizer:\u001b[0m AdamW(lr=0.002, momentum=0.9) with parameter groups 57 weight(decay=0.0), 64 weight(decay=0.0005), 63 bias(decay=0.0)\n",
      "Image sizes 640 train, 640 val\n",
      "Using 0 dataloader workers\n",
      "Logging results to \u001b[1mgarbage_detection\\yolov8n6\u001b[0m\n",
      "Starting training for 40 epochs...\n",
      "\n",
      "      Epoch    GPU_mem   box_loss   cls_loss   dfl_loss  Instances       Size\n"
     ]
    },
    {
     "name": "stderr",
     "output_type": "stream",
     "text": [
      "       1/40         0G      1.336      1.756      1.782         11        640: 100%|██████████| 230/230 [17:15<00:00,  4.50s/it]\n",
      "                 Class     Images  Instances      Box(P          R      mAP50  mAP50-95): 100%|██████████| 9/9 [00:25<00:00,  2.86s/it]"
     ]
    },
    {
     "name": "stdout",
     "output_type": "stream",
     "text": [
      "                   all        260        271      0.405      0.525      0.406      0.156\n"
     ]
    },
    {
     "name": "stderr",
     "output_type": "stream",
     "text": [
      "\n"
     ]
    },
    {
     "name": "stdout",
     "output_type": "stream",
     "text": [
      "\n",
      "      Epoch    GPU_mem   box_loss   cls_loss   dfl_loss  Instances       Size\n"
     ]
    },
    {
     "name": "stderr",
     "output_type": "stream",
     "text": [
      "       2/40         0G      1.419      1.493      1.831         14        640: 100%|██████████| 230/230 [16:29<00:00,  4.30s/it]\n",
      "                 Class     Images  Instances      Box(P          R      mAP50  mAP50-95): 100%|██████████| 9/9 [00:24<00:00,  2.73s/it]"
     ]
    },
    {
     "name": "stdout",
     "output_type": "stream",
     "text": [
      "                   all        260        271      0.727      0.594      0.646      0.261\n"
     ]
    },
    {
     "name": "stderr",
     "output_type": "stream",
     "text": [
      "\n"
     ]
    },
    {
     "name": "stdout",
     "output_type": "stream",
     "text": [
      "\n",
      "      Epoch    GPU_mem   box_loss   cls_loss   dfl_loss  Instances       Size\n"
     ]
    },
    {
     "name": "stderr",
     "output_type": "stream",
     "text": [
      "       3/40         0G      1.432      1.424      1.835         16        640: 100%|██████████| 230/230 [16:46<00:00,  4.38s/it]\n",
      "                 Class     Images  Instances      Box(P          R      mAP50  mAP50-95): 100%|██████████| 9/9 [00:24<00:00,  2.72s/it]"
     ]
    },
    {
     "name": "stdout",
     "output_type": "stream",
     "text": [
      "                   all        260        271      0.707      0.533      0.561      0.233\n"
     ]
    },
    {
     "name": "stderr",
     "output_type": "stream",
     "text": [
      "\n"
     ]
    },
    {
     "name": "stdout",
     "output_type": "stream",
     "text": [
      "\n",
      "      Epoch    GPU_mem   box_loss   cls_loss   dfl_loss  Instances       Size\n"
     ]
    },
    {
     "name": "stderr",
     "output_type": "stream",
     "text": [
      "       4/40         0G      1.394      1.348      1.793         11        640: 100%|██████████| 230/230 [16:55<00:00,  4.42s/it]\n",
      "                 Class     Images  Instances      Box(P          R      mAP50  mAP50-95): 100%|██████████| 9/9 [00:24<00:00,  2.69s/it]"
     ]
    },
    {
     "name": "stdout",
     "output_type": "stream",
     "text": [
      "                   all        260        271      0.606      0.476      0.508      0.224\n"
     ]
    },
    {
     "name": "stderr",
     "output_type": "stream",
     "text": [
      "\n"
     ]
    },
    {
     "name": "stdout",
     "output_type": "stream",
     "text": [
      "\n",
      "      Epoch    GPU_mem   box_loss   cls_loss   dfl_loss  Instances       Size\n"
     ]
    },
    {
     "name": "stderr",
     "output_type": "stream",
     "text": [
      "       5/40         0G      1.345      1.277      1.754          6        640: 100%|██████████| 230/230 [16:56<00:00,  4.42s/it]\n",
      "                 Class     Images  Instances      Box(P          R      mAP50  mAP50-95): 100%|██████████| 9/9 [00:25<00:00,  2.82s/it]"
     ]
    },
    {
     "name": "stdout",
     "output_type": "stream",
     "text": [
      "                   all        260        271      0.731      0.465      0.549       0.24\n"
     ]
    },
    {
     "name": "stderr",
     "output_type": "stream",
     "text": [
      "\n"
     ]
    },
    {
     "name": "stdout",
     "output_type": "stream",
     "text": [
      "\n",
      "      Epoch    GPU_mem   box_loss   cls_loss   dfl_loss  Instances       Size\n"
     ]
    },
    {
     "name": "stderr",
     "output_type": "stream",
     "text": [
      "       6/40         0G      1.283       1.22      1.706         13        640: 100%|██████████| 230/230 [17:04<00:00,  4.45s/it]\n",
      "                 Class     Images  Instances      Box(P          R      mAP50  mAP50-95): 100%|██████████| 9/9 [00:25<00:00,  2.79s/it]"
     ]
    },
    {
     "name": "stdout",
     "output_type": "stream",
     "text": [
      "                   all        260        271      0.828      0.695      0.755      0.399\n"
     ]
    },
    {
     "name": "stderr",
     "output_type": "stream",
     "text": [
      "\n"
     ]
    },
    {
     "name": "stdout",
     "output_type": "stream",
     "text": [
      "\n",
      "      Epoch    GPU_mem   box_loss   cls_loss   dfl_loss  Instances       Size\n"
     ]
    },
    {
     "name": "stderr",
     "output_type": "stream",
     "text": [
      "       7/40         0G      1.269      1.202      1.686         16        640: 100%|██████████| 230/230 [17:06<00:00,  4.46s/it]\n",
      "                 Class     Images  Instances      Box(P          R      mAP50  mAP50-95): 100%|██████████| 9/9 [00:25<00:00,  2.81s/it]"
     ]
    },
    {
     "name": "stdout",
     "output_type": "stream",
     "text": [
      "                   all        260        271      0.744      0.708      0.728      0.385\n"
     ]
    },
    {
     "name": "stderr",
     "output_type": "stream",
     "text": [
      "\n"
     ]
    },
    {
     "name": "stdout",
     "output_type": "stream",
     "text": [
      "\n",
      "      Epoch    GPU_mem   box_loss   cls_loss   dfl_loss  Instances       Size\n"
     ]
    },
    {
     "name": "stderr",
     "output_type": "stream",
     "text": [
      "       8/40         0G      1.217      1.149      1.645         14        640: 100%|██████████| 230/230 [17:27<00:00,  4.56s/it]\n",
      "                 Class     Images  Instances      Box(P          R      mAP50  mAP50-95): 100%|██████████| 9/9 [00:25<00:00,  2.79s/it]"
     ]
    },
    {
     "name": "stdout",
     "output_type": "stream",
     "text": [
      "                   all        260        271       0.76      0.631      0.701       0.38\n"
     ]
    },
    {
     "name": "stderr",
     "output_type": "stream",
     "text": [
      "\n"
     ]
    },
    {
     "name": "stdout",
     "output_type": "stream",
     "text": [
      "\n",
      "      Epoch    GPU_mem   box_loss   cls_loss   dfl_loss  Instances       Size\n"
     ]
    },
    {
     "name": "stderr",
     "output_type": "stream",
     "text": [
      "       9/40         0G      1.177      1.105      1.622          8        640: 100%|██████████| 230/230 [18:13<00:00,  4.76s/it]\n",
      "                 Class     Images  Instances      Box(P          R      mAP50  mAP50-95): 100%|██████████| 9/9 [00:25<00:00,  2.88s/it]"
     ]
    },
    {
     "name": "stdout",
     "output_type": "stream",
     "text": [
      "                   all        260        271       0.81       0.74      0.757      0.409\n"
     ]
    },
    {
     "name": "stderr",
     "output_type": "stream",
     "text": [
      "\n"
     ]
    },
    {
     "name": "stdout",
     "output_type": "stream",
     "text": [
      "\n",
      "      Epoch    GPU_mem   box_loss   cls_loss   dfl_loss  Instances       Size\n"
     ]
    },
    {
     "name": "stderr",
     "output_type": "stream",
     "text": [
      "      10/40         0G      1.174      1.096      1.622         17        640: 100%|██████████| 230/230 [18:16<00:00,  4.77s/it]\n",
      "                 Class     Images  Instances      Box(P          R      mAP50  mAP50-95): 100%|██████████| 9/9 [00:25<00:00,  2.86s/it]"
     ]
    },
    {
     "name": "stdout",
     "output_type": "stream",
     "text": [
      "                   all        260        271      0.823      0.812      0.808      0.446\n"
     ]
    },
    {
     "name": "stderr",
     "output_type": "stream",
     "text": [
      "\n"
     ]
    },
    {
     "name": "stdout",
     "output_type": "stream",
     "text": [
      "\n",
      "      Epoch    GPU_mem   box_loss   cls_loss   dfl_loss  Instances       Size\n"
     ]
    },
    {
     "name": "stderr",
     "output_type": "stream",
     "text": [
      "      11/40         0G      1.137      1.058      1.579         13        640: 100%|██████████| 230/230 [18:19<00:00,  4.78s/it]\n",
      "                 Class     Images  Instances      Box(P          R      mAP50  mAP50-95): 100%|██████████| 9/9 [00:25<00:00,  2.84s/it]"
     ]
    },
    {
     "name": "stdout",
     "output_type": "stream",
     "text": [
      "                   all        260        271      0.774      0.742      0.785      0.433\n"
     ]
    },
    {
     "name": "stderr",
     "output_type": "stream",
     "text": [
      "\n"
     ]
    },
    {
     "name": "stdout",
     "output_type": "stream",
     "text": [
      "\n",
      "      Epoch    GPU_mem   box_loss   cls_loss   dfl_loss  Instances       Size\n"
     ]
    },
    {
     "name": "stderr",
     "output_type": "stream",
     "text": [
      "      12/40         0G      1.106      1.037      1.574         11        640: 100%|██████████| 230/230 [18:09<00:00,  4.74s/it]\n",
      "                 Class     Images  Instances      Box(P          R      mAP50  mAP50-95): 100%|██████████| 9/9 [00:26<00:00,  2.93s/it]"
     ]
    },
    {
     "name": "stdout",
     "output_type": "stream",
     "text": [
      "                   all        260        271      0.774      0.734      0.773      0.435\n"
     ]
    },
    {
     "name": "stderr",
     "output_type": "stream",
     "text": [
      "\n"
     ]
    },
    {
     "name": "stdout",
     "output_type": "stream",
     "text": [
      "\n",
      "      Epoch    GPU_mem   box_loss   cls_loss   dfl_loss  Instances       Size\n"
     ]
    },
    {
     "name": "stderr",
     "output_type": "stream",
     "text": [
      "      13/40         0G      1.086      1.021      1.547         14        640: 100%|██████████| 230/230 [17:50<00:00,  4.65s/it]\n",
      "                 Class     Images  Instances      Box(P          R      mAP50  mAP50-95): 100%|██████████| 9/9 [00:25<00:00,  2.87s/it]"
     ]
    },
    {
     "name": "stdout",
     "output_type": "stream",
     "text": [
      "                   all        260        271      0.814      0.823       0.83      0.501\n"
     ]
    },
    {
     "name": "stderr",
     "output_type": "stream",
     "text": [
      "\n"
     ]
    },
    {
     "name": "stdout",
     "output_type": "stream",
     "text": [
      "\n",
      "      Epoch    GPU_mem   box_loss   cls_loss   dfl_loss  Instances       Size\n"
     ]
    },
    {
     "name": "stderr",
     "output_type": "stream",
     "text": [
      "      14/40         0G      1.076       0.99       1.54         15        640: 100%|██████████| 230/230 [17:45<00:00,  4.63s/it]\n",
      "                 Class     Images  Instances      Box(P          R      mAP50  mAP50-95): 100%|██████████| 9/9 [00:26<00:00,  2.90s/it]"
     ]
    },
    {
     "name": "stdout",
     "output_type": "stream",
     "text": [
      "                   all        260        271      0.847      0.779      0.811      0.488\n"
     ]
    },
    {
     "name": "stderr",
     "output_type": "stream",
     "text": [
      "\n"
     ]
    },
    {
     "name": "stdout",
     "output_type": "stream",
     "text": [
      "\n",
      "      Epoch    GPU_mem   box_loss   cls_loss   dfl_loss  Instances       Size\n"
     ]
    },
    {
     "name": "stderr",
     "output_type": "stream",
     "text": [
      "      15/40         0G      1.058     0.9792      1.521         11        640: 100%|██████████| 230/230 [17:22<00:00,  4.53s/it]\n",
      "                 Class     Images  Instances      Box(P          R      mAP50  mAP50-95): 100%|██████████| 9/9 [00:25<00:00,  2.87s/it]"
     ]
    },
    {
     "name": "stdout",
     "output_type": "stream",
     "text": [
      "                   all        260        271      0.829      0.767      0.816       0.47\n"
     ]
    },
    {
     "name": "stderr",
     "output_type": "stream",
     "text": [
      "\n"
     ]
    },
    {
     "name": "stdout",
     "output_type": "stream",
     "text": [
      "\n",
      "      Epoch    GPU_mem   box_loss   cls_loss   dfl_loss  Instances       Size\n"
     ]
    },
    {
     "name": "stderr",
     "output_type": "stream",
     "text": [
      "      16/40         0G      1.038      0.971      1.509         14        640: 100%|██████████| 230/230 [17:10<00:00,  4.48s/it]\n",
      "                 Class     Images  Instances      Box(P          R      mAP50  mAP50-95): 100%|██████████| 9/9 [00:25<00:00,  2.83s/it]"
     ]
    },
    {
     "name": "stdout",
     "output_type": "stream",
     "text": [
      "                   all        260        271      0.843      0.768      0.806      0.477\n"
     ]
    },
    {
     "name": "stderr",
     "output_type": "stream",
     "text": [
      "\n"
     ]
    },
    {
     "name": "stdout",
     "output_type": "stream",
     "text": [
      "\n",
      "      Epoch    GPU_mem   box_loss   cls_loss   dfl_loss  Instances       Size\n"
     ]
    },
    {
     "name": "stderr",
     "output_type": "stream",
     "text": [
      "      17/40         0G      1.031     0.9512      1.513         11        640: 100%|██████████| 230/230 [17:34<00:00,  4.59s/it]\n",
      "                 Class     Images  Instances      Box(P          R      mAP50  mAP50-95): 100%|██████████| 9/9 [00:25<00:00,  2.87s/it]"
     ]
    },
    {
     "name": "stdout",
     "output_type": "stream",
     "text": [
      "                   all        260        271      0.865      0.806      0.828      0.487\n"
     ]
    },
    {
     "name": "stderr",
     "output_type": "stream",
     "text": [
      "\n"
     ]
    },
    {
     "name": "stdout",
     "output_type": "stream",
     "text": [
      "\n",
      "      Epoch    GPU_mem   box_loss   cls_loss   dfl_loss  Instances       Size\n"
     ]
    },
    {
     "name": "stderr",
     "output_type": "stream",
     "text": [
      "      18/40         0G      1.013     0.9302      1.486         21        640: 100%|██████████| 230/230 [17:34<00:00,  4.58s/it]\n",
      "                 Class     Images  Instances      Box(P          R      mAP50  mAP50-95): 100%|██████████| 9/9 [00:26<00:00,  2.98s/it]"
     ]
    },
    {
     "name": "stdout",
     "output_type": "stream",
     "text": [
      "                   all        260        271       0.87      0.779      0.821      0.463\n"
     ]
    },
    {
     "name": "stderr",
     "output_type": "stream",
     "text": [
      "\n"
     ]
    },
    {
     "name": "stdout",
     "output_type": "stream",
     "text": [
      "\n",
      "      Epoch    GPU_mem   box_loss   cls_loss   dfl_loss  Instances       Size\n"
     ]
    },
    {
     "name": "stderr",
     "output_type": "stream",
     "text": [
      "      19/40         0G      1.015      0.932      1.492         11        640: 100%|██████████| 230/230 [17:26<00:00,  4.55s/it]\n",
      "                 Class     Images  Instances      Box(P          R      mAP50  mAP50-95): 100%|██████████| 9/9 [00:27<00:00,  3.00s/it]"
     ]
    },
    {
     "name": "stdout",
     "output_type": "stream",
     "text": [
      "                   all        260        271      0.853      0.797      0.837      0.501\n"
     ]
    },
    {
     "name": "stderr",
     "output_type": "stream",
     "text": [
      "\n"
     ]
    },
    {
     "name": "stdout",
     "output_type": "stream",
     "text": [
      "\n",
      "      Epoch    GPU_mem   box_loss   cls_loss   dfl_loss  Instances       Size\n"
     ]
    },
    {
     "name": "stderr",
     "output_type": "stream",
     "text": [
      "      20/40         0G     0.9849     0.9103      1.467         13        640: 100%|██████████| 230/230 [17:18<00:00,  4.52s/it]\n",
      "                 Class     Images  Instances      Box(P          R      mAP50  mAP50-95): 100%|██████████| 9/9 [00:26<00:00,  2.98s/it]"
     ]
    },
    {
     "name": "stdout",
     "output_type": "stream",
     "text": [
      "                   all        260        271      0.824      0.779      0.814      0.477\n"
     ]
    },
    {
     "name": "stderr",
     "output_type": "stream",
     "text": [
      "\n"
     ]
    },
    {
     "name": "stdout",
     "output_type": "stream",
     "text": [
      "\n",
      "      Epoch    GPU_mem   box_loss   cls_loss   dfl_loss  Instances       Size\n"
     ]
    },
    {
     "name": "stderr",
     "output_type": "stream",
     "text": [
      "      21/40         0G     0.9875     0.8857       1.47         15        640: 100%|██████████| 230/230 [17:19<00:00,  4.52s/it]\n",
      "                 Class     Images  Instances      Box(P          R      mAP50  mAP50-95): 100%|██████████| 9/9 [00:26<00:00,  2.99s/it]"
     ]
    },
    {
     "name": "stdout",
     "output_type": "stream",
     "text": [
      "                   all        260        271      0.857      0.834      0.838      0.498\n"
     ]
    },
    {
     "name": "stderr",
     "output_type": "stream",
     "text": [
      "\n"
     ]
    },
    {
     "name": "stdout",
     "output_type": "stream",
     "text": [
      "\n",
      "      Epoch    GPU_mem   box_loss   cls_loss   dfl_loss  Instances       Size\n"
     ]
    },
    {
     "name": "stderr",
     "output_type": "stream",
     "text": [
      "      22/40         0G     0.9682     0.8954      1.462         10        640: 100%|██████████| 230/230 [17:16<00:00,  4.51s/it]\n",
      "                 Class     Images  Instances      Box(P          R      mAP50  mAP50-95): 100%|██████████| 9/9 [00:26<00:00,  2.99s/it]"
     ]
    },
    {
     "name": "stdout",
     "output_type": "stream",
     "text": [
      "                   all        260        271      0.872      0.815      0.838      0.484\n"
     ]
    },
    {
     "name": "stderr",
     "output_type": "stream",
     "text": [
      "\n"
     ]
    },
    {
     "name": "stdout",
     "output_type": "stream",
     "text": [
      "\n",
      "      Epoch    GPU_mem   box_loss   cls_loss   dfl_loss  Instances       Size\n"
     ]
    },
    {
     "name": "stderr",
     "output_type": "stream",
     "text": [
      "      23/40         0G     0.9696     0.8827      1.448         17        640: 100%|██████████| 230/230 [17:14<00:00,  4.50s/it]\n",
      "                 Class     Images  Instances      Box(P          R      mAP50  mAP50-95): 100%|██████████| 9/9 [00:26<00:00,  2.97s/it]"
     ]
    },
    {
     "name": "stdout",
     "output_type": "stream",
     "text": [
      "                   all        260        271      0.864      0.856      0.849      0.522\n"
     ]
    },
    {
     "name": "stderr",
     "output_type": "stream",
     "text": [
      "\n"
     ]
    },
    {
     "name": "stdout",
     "output_type": "stream",
     "text": [
      "\n",
      "      Epoch    GPU_mem   box_loss   cls_loss   dfl_loss  Instances       Size\n"
     ]
    },
    {
     "name": "stderr",
     "output_type": "stream",
     "text": [
      "      24/40         0G     0.9455     0.8528      1.439         11        640: 100%|██████████| 230/230 [17:51<00:00,  4.66s/it]\n",
      "                 Class     Images  Instances      Box(P          R      mAP50  mAP50-95): 100%|██████████| 9/9 [00:25<00:00,  2.78s/it]"
     ]
    },
    {
     "name": "stdout",
     "output_type": "stream",
     "text": [
      "                   all        260        271      0.895      0.797      0.838      0.532\n"
     ]
    },
    {
     "name": "stderr",
     "output_type": "stream",
     "text": [
      "\n"
     ]
    },
    {
     "name": "stdout",
     "output_type": "stream",
     "text": [
      "\n",
      "      Epoch    GPU_mem   box_loss   cls_loss   dfl_loss  Instances       Size\n"
     ]
    },
    {
     "name": "stderr",
     "output_type": "stream",
     "text": [
      "      25/40         0G     0.9305     0.8441      1.438         14        640: 100%|██████████| 230/230 [17:40<00:00,  4.61s/it]\n",
      "                 Class     Images  Instances      Box(P          R      mAP50  mAP50-95): 100%|██████████| 9/9 [00:24<00:00,  2.74s/it]"
     ]
    },
    {
     "name": "stdout",
     "output_type": "stream",
     "text": [
      "                   all        260        271       0.85      0.819      0.848      0.519\n"
     ]
    },
    {
     "name": "stderr",
     "output_type": "stream",
     "text": [
      "\n"
     ]
    },
    {
     "name": "stdout",
     "output_type": "stream",
     "text": [
      "\n",
      "      Epoch    GPU_mem   box_loss   cls_loss   dfl_loss  Instances       Size\n"
     ]
    },
    {
     "name": "stderr",
     "output_type": "stream",
     "text": [
      "      26/40         0G     0.9319     0.8398       1.43         14        640: 100%|██████████| 230/230 [17:50<00:00,  4.65s/it]\n",
      "                 Class     Images  Instances      Box(P          R      mAP50  mAP50-95): 100%|██████████| 9/9 [00:24<00:00,  2.70s/it]"
     ]
    },
    {
     "name": "stdout",
     "output_type": "stream",
     "text": [
      "                   all        260        271       0.87      0.801      0.839      0.512\n"
     ]
    },
    {
     "name": "stderr",
     "output_type": "stream",
     "text": [
      "\n"
     ]
    },
    {
     "name": "stdout",
     "output_type": "stream",
     "text": [
      "\n",
      "      Epoch    GPU_mem   box_loss   cls_loss   dfl_loss  Instances       Size\n"
     ]
    },
    {
     "name": "stderr",
     "output_type": "stream",
     "text": [
      "      27/40         0G     0.9145     0.8358      1.419         11        640: 100%|██████████| 230/230 [17:37<00:00,  4.60s/it]\n",
      "                 Class     Images  Instances      Box(P          R      mAP50  mAP50-95): 100%|██████████| 9/9 [00:25<00:00,  2.81s/it]"
     ]
    },
    {
     "name": "stdout",
     "output_type": "stream",
     "text": [
      "                   all        260        271      0.887      0.779      0.836      0.491\n"
     ]
    },
    {
     "name": "stderr",
     "output_type": "stream",
     "text": [
      "\n"
     ]
    },
    {
     "name": "stdout",
     "output_type": "stream",
     "text": [
      "\n",
      "      Epoch    GPU_mem   box_loss   cls_loss   dfl_loss  Instances       Size\n"
     ]
    },
    {
     "name": "stderr",
     "output_type": "stream",
     "text": [
      "      28/40         0G      0.907     0.8214      1.409         10        640: 100%|██████████| 230/230 [17:50<00:00,  4.65s/it]\n",
      "                 Class     Images  Instances      Box(P          R      mAP50  mAP50-95): 100%|██████████| 9/9 [00:25<00:00,  2.82s/it]"
     ]
    },
    {
     "name": "stdout",
     "output_type": "stream",
     "text": [
      "                   all        260        271      0.845      0.823      0.859      0.538\n"
     ]
    },
    {
     "name": "stderr",
     "output_type": "stream",
     "text": [
      "\n"
     ]
    },
    {
     "name": "stdout",
     "output_type": "stream",
     "text": [
      "\n",
      "      Epoch    GPU_mem   box_loss   cls_loss   dfl_loss  Instances       Size\n"
     ]
    },
    {
     "name": "stderr",
     "output_type": "stream",
     "text": [
      "      29/40         0G     0.8898      0.817      1.402          8        640: 100%|██████████| 230/230 [18:05<00:00,  4.72s/it]\n",
      "                 Class     Images  Instances      Box(P          R      mAP50  mAP50-95): 100%|██████████| 9/9 [00:27<00:00,  3.08s/it]"
     ]
    },
    {
     "name": "stdout",
     "output_type": "stream",
     "text": [
      "                   all        260        271      0.886      0.823      0.863      0.546\n"
     ]
    },
    {
     "name": "stderr",
     "output_type": "stream",
     "text": [
      "\n"
     ]
    },
    {
     "name": "stdout",
     "output_type": "stream",
     "text": [
      "\n",
      "      Epoch    GPU_mem   box_loss   cls_loss   dfl_loss  Instances       Size\n"
     ]
    },
    {
     "name": "stderr",
     "output_type": "stream",
     "text": [
      "      30/40         0G     0.8928     0.7993      1.401         15        640: 100%|██████████| 230/230 [18:01<00:00,  4.70s/it]\n",
      "                 Class     Images  Instances      Box(P          R      mAP50  mAP50-95): 100%|██████████| 9/9 [00:26<00:00,  2.93s/it]"
     ]
    },
    {
     "name": "stdout",
     "output_type": "stream",
     "text": [
      "                   all        260        271      0.899      0.823      0.871      0.564\n"
     ]
    },
    {
     "name": "stderr",
     "output_type": "stream",
     "text": [
      "\n"
     ]
    },
    {
     "name": "stdout",
     "output_type": "stream",
     "text": [
      "Closing dataloader mosaic\n",
      "\n",
      "      Epoch    GPU_mem   box_loss   cls_loss   dfl_loss  Instances       Size\n"
     ]
    },
    {
     "name": "stderr",
     "output_type": "stream",
     "text": [
      "C:\\Users\\Gurudattaverma\\AppData\\Roaming\\Python\\Python310\\site-packages\\torch\\utils\\data\\dataloader.py:665: UserWarning: 'pin_memory' argument is set as true but no accelerator is found, then device pinned memory won't be used.\n",
      "  warnings.warn(warn_msg)\n",
      "      31/40         0G     0.8787     0.7158      1.551          5        640: 100%|██████████| 230/230 [17:28<00:00,  4.56s/it]\n",
      "                 Class     Images  Instances      Box(P          R      mAP50  mAP50-95): 100%|██████████| 9/9 [00:25<00:00,  2.89s/it]"
     ]
    },
    {
     "name": "stdout",
     "output_type": "stream",
     "text": [
      "                   all        260        271      0.882      0.803      0.862      0.531\n"
     ]
    },
    {
     "name": "stderr",
     "output_type": "stream",
     "text": [
      "\n"
     ]
    },
    {
     "name": "stdout",
     "output_type": "stream",
     "text": [
      "\n",
      "      Epoch    GPU_mem   box_loss   cls_loss   dfl_loss  Instances       Size\n"
     ]
    },
    {
     "name": "stderr",
     "output_type": "stream",
     "text": [
      "      32/40         0G     0.8391     0.6584      1.501          5        640: 100%|██████████| 230/230 [17:20<00:00,  4.52s/it]\n",
      "                 Class     Images  Instances      Box(P          R      mAP50  mAP50-95): 100%|██████████| 9/9 [00:26<00:00,  2.93s/it]"
     ]
    },
    {
     "name": "stdout",
     "output_type": "stream",
     "text": [
      "                   all        260        271      0.867       0.83      0.859      0.538\n"
     ]
    },
    {
     "name": "stderr",
     "output_type": "stream",
     "text": [
      "\n"
     ]
    },
    {
     "name": "stdout",
     "output_type": "stream",
     "text": [
      "\n",
      "      Epoch    GPU_mem   box_loss   cls_loss   dfl_loss  Instances       Size\n"
     ]
    },
    {
     "name": "stderr",
     "output_type": "stream",
     "text": [
      "      33/40         0G     0.8118     0.6281      1.483          5        640: 100%|██████████| 230/230 [17:46<00:00,  4.64s/it]\n",
      "                 Class     Images  Instances      Box(P          R      mAP50  mAP50-95): 100%|██████████| 9/9 [00:26<00:00,  2.94s/it]"
     ]
    },
    {
     "name": "stdout",
     "output_type": "stream",
     "text": [
      "                   all        260        271      0.886      0.823      0.871      0.553\n"
     ]
    },
    {
     "name": "stderr",
     "output_type": "stream",
     "text": [
      "\n"
     ]
    },
    {
     "name": "stdout",
     "output_type": "stream",
     "text": [
      "\n",
      "      Epoch    GPU_mem   box_loss   cls_loss   dfl_loss  Instances       Size\n"
     ]
    },
    {
     "name": "stderr",
     "output_type": "stream",
     "text": [
      "      34/40         0G     0.7964      0.619      1.465          5        640: 100%|██████████| 230/230 [17:09<00:00,  4.47s/it]\n",
      "                 Class     Images  Instances      Box(P          R      mAP50  mAP50-95): 100%|██████████| 9/9 [00:27<00:00,  3.06s/it]"
     ]
    },
    {
     "name": "stdout",
     "output_type": "stream",
     "text": [
      "                   all        260        271      0.885      0.823      0.873      0.549\n"
     ]
    },
    {
     "name": "stderr",
     "output_type": "stream",
     "text": [
      "\n"
     ]
    },
    {
     "name": "stdout",
     "output_type": "stream",
     "text": [
      "\n",
      "      Epoch    GPU_mem   box_loss   cls_loss   dfl_loss  Instances       Size\n"
     ]
    },
    {
     "name": "stderr",
     "output_type": "stream",
     "text": [
      "      35/40         0G     0.7884     0.6011      1.453          5        640: 100%|██████████| 230/230 [17:16<00:00,  4.51s/it]\n",
      "                 Class     Images  Instances      Box(P          R      mAP50  mAP50-95): 100%|██████████| 9/9 [00:26<00:00,  2.92s/it]"
     ]
    },
    {
     "name": "stdout",
     "output_type": "stream",
     "text": [
      "                   all        260        271       0.92      0.807      0.866      0.554\n"
     ]
    },
    {
     "name": "stderr",
     "output_type": "stream",
     "text": [
      "\n"
     ]
    },
    {
     "name": "stdout",
     "output_type": "stream",
     "text": [
      "\n",
      "      Epoch    GPU_mem   box_loss   cls_loss   dfl_loss  Instances       Size\n"
     ]
    },
    {
     "name": "stderr",
     "output_type": "stream",
     "text": [
      "      36/40         0G     0.7598     0.5807      1.436          5        640: 100%|██████████| 230/230 [17:17<00:00,  4.51s/it]\n",
      "                 Class     Images  Instances      Box(P          R      mAP50  mAP50-95): 100%|██████████| 9/9 [00:27<00:00,  3.01s/it]"
     ]
    },
    {
     "name": "stdout",
     "output_type": "stream",
     "text": [
      "                   all        260        271       0.88      0.838      0.854      0.559\n"
     ]
    },
    {
     "name": "stderr",
     "output_type": "stream",
     "text": [
      "\n"
     ]
    },
    {
     "name": "stdout",
     "output_type": "stream",
     "text": [
      "\n",
      "      Epoch    GPU_mem   box_loss   cls_loss   dfl_loss  Instances       Size\n"
     ]
    },
    {
     "name": "stderr",
     "output_type": "stream",
     "text": [
      "      37/40         0G     0.7516     0.5621      1.419          5        640: 100%|██████████| 230/230 [18:00<00:00,  4.70s/it]\n",
      "                 Class     Images  Instances      Box(P          R      mAP50  mAP50-95): 100%|██████████| 9/9 [00:25<00:00,  2.78s/it]"
     ]
    },
    {
     "name": "stdout",
     "output_type": "stream",
     "text": [
      "                   all        260        271      0.888      0.823      0.864      0.561\n"
     ]
    },
    {
     "name": "stderr",
     "output_type": "stream",
     "text": [
      "\n"
     ]
    },
    {
     "name": "stdout",
     "output_type": "stream",
     "text": [
      "\n",
      "      Epoch    GPU_mem   box_loss   cls_loss   dfl_loss  Instances       Size\n"
     ]
    },
    {
     "name": "stderr",
     "output_type": "stream",
     "text": [
      "      38/40         0G     0.7448     0.5659      1.426         16        640:  69%|██████▊   | 158/230 [12:26<05:48,  4.84s/it]"
     ]
    }
   ],
   "source": [
    "model.train(data=\"data.yaml\", epochs=40, imgsz=640, batch=-1, save=True, save_period=10, cache=True, project=\"garbage_detection\", name=\"yolov8n\")"
   ]
  },
  {
   "cell_type": "code",
   "execution_count": null,
   "id": "38a4abfa",
   "metadata": {},
   "outputs": [],
   "source": [
    "model = YOLO(\"garbage_detection\\yolov8n6\\weights\\last.pt\")"
   ]
  },
  {
   "cell_type": "code",
   "execution_count": null,
   "id": "c70246e6",
   "metadata": {},
   "outputs": [
    {
     "name": "stdout",
     "output_type": "stream",
     "text": [
      "Ultralytics 8.3.141  Python-3.10.9 torch-2.7.0+cpu CPU (Intel Xeon Silver 4114 2.20GHz)\n",
      "\u001b[34m\u001b[1mengine\\trainer: \u001b[0magnostic_nms=False, amp=True, augment=False, auto_augment=randaugment, batch=16, bgr=0.0, box=7.5, cache=True, cfg=None, classes=None, close_mosaic=10, cls=0.5, conf=None, copy_paste=0.0, copy_paste_mode=flip, cos_lr=False, cutmix=0.0, data=data.yaml, degrees=0.0, deterministic=True, device=cpu, dfl=1.5, dnn=False, dropout=0.0, dynamic=False, embed=None, epochs=40, erasing=0.4, exist_ok=False, fliplr=0.5, flipud=0.0, format=torchscript, fraction=1.0, freeze=None, half=False, hsv_h=0.015, hsv_s=0.7, hsv_v=0.4, imgsz=640, int8=False, iou=0.7, keras=False, kobj=1.0, line_width=None, lr0=0.01, lrf=0.01, mask_ratio=4, max_det=300, mixup=0.0, mode=train, model=garbage_detection\\yolov8n6\\weights\\last.pt, momentum=0.937, mosaic=1.0, multi_scale=False, name=yolov8n6, nbs=64, nms=False, opset=None, optimize=False, optimizer=auto, overlap_mask=True, patience=100, perspective=0.0, plots=True, pose=12.0, pretrained=True, profile=False, project=garbage_detection, rect=False, resume=garbage_detection\\yolov8n6\\weights\\last.pt, retina_masks=False, save=True, save_conf=False, save_crop=False, save_dir=garbage_detection\\yolov8n6, save_frames=False, save_json=False, save_period=10, save_txt=False, scale=0.5, seed=0, shear=0.0, show=False, show_boxes=True, show_conf=True, show_labels=True, simplify=True, single_cls=False, source=None, split=val, stream_buffer=False, task=detect, time=None, tracker=botsort.yaml, translate=0.1, val=True, verbose=True, vid_stride=1, visualize=False, warmup_bias_lr=0.0, warmup_epochs=3.0, warmup_momentum=0.8, weight_decay=0.0005, workers=0, workspace=None\n",
      "\n",
      "                   from  n    params  module                                       arguments                     \n",
      "  0                  -1  1       464  ultralytics.nn.modules.conv.Conv             [3, 16, 3, 2]                 \n",
      "  1                  -1  1      4672  ultralytics.nn.modules.conv.Conv             [16, 32, 3, 2]                \n",
      "  2                  -1  1      7360  ultralytics.nn.modules.block.C2f             [32, 32, 1, True]             \n",
      "  3                  -1  1     18560  ultralytics.nn.modules.conv.Conv             [32, 64, 3, 2]                \n",
      "  4                  -1  2     49664  ultralytics.nn.modules.block.C2f             [64, 64, 2, True]             \n",
      "  5                  -1  1     73984  ultralytics.nn.modules.conv.Conv             [64, 128, 3, 2]               \n",
      "  6                  -1  2    197632  ultralytics.nn.modules.block.C2f             [128, 128, 2, True]           \n",
      "  7                  -1  1    295424  ultralytics.nn.modules.conv.Conv             [128, 256, 3, 2]              \n",
      "  8                  -1  1    460288  ultralytics.nn.modules.block.C2f             [256, 256, 1, True]           \n",
      "  9                  -1  1    164608  ultralytics.nn.modules.block.SPPF            [256, 256, 5]                 \n",
      " 10                  -1  1         0  torch.nn.modules.upsampling.Upsample         [None, 2, 'nearest']          \n",
      " 11             [-1, 6]  1         0  ultralytics.nn.modules.conv.Concat           [1]                           \n",
      " 12                  -1  1    148224  ultralytics.nn.modules.block.C2f             [384, 128, 1]                 \n",
      " 13                  -1  1         0  torch.nn.modules.upsampling.Upsample         [None, 2, 'nearest']          \n",
      " 14             [-1, 4]  1         0  ultralytics.nn.modules.conv.Concat           [1]                           \n",
      " 15                  -1  1     37248  ultralytics.nn.modules.block.C2f             [192, 64, 1]                  \n",
      " 16                  -1  1     36992  ultralytics.nn.modules.conv.Conv             [64, 64, 3, 2]                \n",
      " 17            [-1, 12]  1         0  ultralytics.nn.modules.conv.Concat           [1]                           \n",
      " 18                  -1  1    123648  ultralytics.nn.modules.block.C2f             [192, 128, 1]                 \n",
      " 19                  -1  1    147712  ultralytics.nn.modules.conv.Conv             [128, 128, 3, 2]              \n",
      " 20             [-1, 9]  1         0  ultralytics.nn.modules.conv.Concat           [1]                           \n",
      " 21                  -1  1    493056  ultralytics.nn.modules.block.C2f             [384, 256, 1]                 \n",
      " 22        [15, 18, 21]  1    751507  ultralytics.nn.modules.head.Detect           [1, [64, 128, 256]]           \n",
      "Model summary: 129 layers, 3,011,043 parameters, 3,011,027 gradients, 8.2 GFLOPs\n",
      "\n",
      "Transferred 355/355 items from pretrained weights\n",
      "Freezing layer 'model.22.dfl.conv.weight'\n",
      "\u001b[34m\u001b[1mtrain: \u001b[0mFast image access  (ping: 0.20.0 ms, read: 10.22.1 MB/s, size: 91.4 KB)\n"
     ]
    },
    {
     "name": "stderr",
     "output_type": "stream",
     "text": [
      "\u001b[34m\u001b[1mtrain: \u001b[0mScanning C:\\Users\\Gurudattaverma\\Desktop\\garbage_detection\\train\\labels.cache... 3669 images, 210 backgrounds, 0 corrupt: 100%|██████████| 3669/3669 [00:00<?, ?it/s]"
     ]
    },
    {
     "name": "stdout",
     "output_type": "stream",
     "text": [
      "WARNING Box and segment counts should be equal, but got len(segments) = 6, len(boxes) = 3933. To resolve this only boxes will be used and all segments will be removed. To avoid this please supply either a detect or segment dataset, not a detect-segment mixed dataset.\n"
     ]
    },
    {
     "name": "stderr",
     "output_type": "stream",
     "text": [
      "\n"
     ]
    },
    {
     "name": "stdout",
     "output_type": "stream",
     "text": [
      "WARNING cache='ram' may produce non-deterministic training results. Consider cache='disk' as a deterministic alternative if your disk space allows.\n"
     ]
    },
    {
     "name": "stderr",
     "output_type": "stream",
     "text": [
      "\u001b[34m\u001b[1mtrain: \u001b[0mCaching images (4.2GB RAM): 100%|██████████| 3669/3669 [00:08<00:00, 447.80it/s]\n",
      "C:\\Users\\Gurudattaverma\\AppData\\Roaming\\Python\\Python310\\site-packages\\torch\\utils\\data\\dataloader.py:665: UserWarning: 'pin_memory' argument is set as true but no accelerator is found, then device pinned memory won't be used.\n",
      "  warnings.warn(warn_msg)\n"
     ]
    },
    {
     "name": "stdout",
     "output_type": "stream",
     "text": [
      "\u001b[34m\u001b[1mval: \u001b[0mFast image access  (ping: 0.20.1 ms, read: 7.52.3 MB/s, size: 73.9 KB)\n"
     ]
    },
    {
     "name": "stderr",
     "output_type": "stream",
     "text": [
      "\u001b[34m\u001b[1mval: \u001b[0mScanning C:\\Users\\Gurudattaverma\\Desktop\\garbage_detection\\valid\\labels.cache... 260 images, 8 backgrounds, 0 corrupt: 100%|██████████| 260/260 [00:00<?, ?it/s]"
     ]
    },
    {
     "name": "stdout",
     "output_type": "stream",
     "text": [
      "WARNING Box and segment counts should be equal, but got len(segments) = 2, len(boxes) = 271. To resolve this only boxes will be used and all segments will be removed. To avoid this please supply either a detect or segment dataset, not a detect-segment mixed dataset.\n"
     ]
    },
    {
     "name": "stderr",
     "output_type": "stream",
     "text": [
      "\n"
     ]
    },
    {
     "name": "stdout",
     "output_type": "stream",
     "text": [
      "WARNING cache='ram' may produce non-deterministic training results. Consider cache='disk' as a deterministic alternative if your disk space allows.\n"
     ]
    },
    {
     "name": "stderr",
     "output_type": "stream",
     "text": [
      "\u001b[34m\u001b[1mval: \u001b[0mCaching images (0.3GB RAM): 100%|██████████| 260/260 [00:00<00:00, 487.04it/s]\n",
      "C:\\Users\\Gurudattaverma\\AppData\\Roaming\\Python\\Python310\\site-packages\\torch\\utils\\data\\dataloader.py:665: UserWarning: 'pin_memory' argument is set as true but no accelerator is found, then device pinned memory won't be used.\n",
      "  warnings.warn(warn_msg)\n"
     ]
    },
    {
     "name": "stdout",
     "output_type": "stream",
     "text": [
      "Plotting labels to garbage_detection\\yolov8n6\\labels.jpg... \n",
      "\u001b[34m\u001b[1moptimizer:\u001b[0m 'optimizer=auto' found, ignoring 'lr0=0.01' and 'momentum=0.937' and determining best 'optimizer', 'lr0' and 'momentum' automatically... \n",
      "\u001b[34m\u001b[1moptimizer:\u001b[0m AdamW(lr=0.002, momentum=0.9) with parameter groups 57 weight(decay=0.0), 64 weight(decay=0.0005), 63 bias(decay=0.0)\n",
      "Resuming training garbage_detection\\yolov8n6\\weights\\last.pt from epoch 38 to 40 total epochs\n",
      "Closing dataloader mosaic\n",
      "Image sizes 640 train, 640 val\n",
      "Using 0 dataloader workers\n",
      "Logging results to \u001b[1mgarbage_detection\\yolov8n6\u001b[0m\n",
      "Starting training for 40 epochs...\n",
      "\n",
      "      Epoch    GPU_mem   box_loss   cls_loss   dfl_loss  Instances       Size\n"
     ]
    },
    {
     "name": "stderr",
     "output_type": "stream",
     "text": [
      "      38/40         0G     0.7311     0.5499      1.404          3        640: 100%|██████████| 230/230 [14:11<00:00,  3.70s/it]\n",
      "                 Class     Images  Instances      Box(P          R      mAP50  mAP50-95): 100%|██████████| 9/9 [00:23<00:00,  2.58s/it]"
     ]
    },
    {
     "name": "stdout",
     "output_type": "stream",
     "text": [
      "                   all        260        271      0.917      0.808      0.869      0.562\n"
     ]
    },
    {
     "name": "stderr",
     "output_type": "stream",
     "text": [
      "\n"
     ]
    },
    {
     "name": "stdout",
     "output_type": "stream",
     "text": [
      "\n",
      "      Epoch    GPU_mem   box_loss   cls_loss   dfl_loss  Instances       Size\n"
     ]
    },
    {
     "name": "stderr",
     "output_type": "stream",
     "text": [
      "      39/40         0G     0.7188     0.5352      1.389          6        640: 100%|██████████| 230/230 [14:09<00:00,  3.69s/it]\n",
      "                 Class     Images  Instances      Box(P          R      mAP50  mAP50-95): 100%|██████████| 9/9 [00:22<00:00,  2.45s/it]"
     ]
    },
    {
     "name": "stdout",
     "output_type": "stream",
     "text": [
      "                   all        260        271      0.906      0.804      0.859      0.548\n"
     ]
    },
    {
     "name": "stderr",
     "output_type": "stream",
     "text": [
      "\n"
     ]
    },
    {
     "name": "stdout",
     "output_type": "stream",
     "text": [
      "\n",
      "      Epoch    GPU_mem   box_loss   cls_loss   dfl_loss  Instances       Size\n"
     ]
    },
    {
     "name": "stderr",
     "output_type": "stream",
     "text": [
      "      40/40         0G     0.7114     0.5364      1.395          7        640: 100%|██████████| 230/230 [14:06<00:00,  3.68s/it]\n",
      "                 Class     Images  Instances      Box(P          R      mAP50  mAP50-95): 100%|██████████| 9/9 [00:22<00:00,  2.49s/it]"
     ]
    },
    {
     "name": "stdout",
     "output_type": "stream",
     "text": [
      "                   all        260        271      0.895      0.834      0.868      0.564\n"
     ]
    },
    {
     "name": "stderr",
     "output_type": "stream",
     "text": [
      "\n"
     ]
    },
    {
     "name": "stdout",
     "output_type": "stream",
     "text": [
      "\n",
      "3 epochs completed in 0.727 hours.\n",
      "Optimizer stripped from garbage_detection\\yolov8n6\\weights\\last.pt, 6.2MB\n",
      "Optimizer stripped from garbage_detection\\yolov8n6\\weights\\best.pt, 6.2MB\n",
      "\n",
      "Validating garbage_detection\\yolov8n6\\weights\\best.pt...\n",
      "Ultralytics 8.3.141  Python-3.10.9 torch-2.7.0+cpu CPU (Intel Xeon Silver 4114 2.20GHz)\n",
      "Model summary (fused): 72 layers, 3,005,843 parameters, 0 gradients, 8.1 GFLOPs\n"
     ]
    },
    {
     "name": "stderr",
     "output_type": "stream",
     "text": [
      "                 Class     Images  Instances      Box(P          R      mAP50  mAP50-95): 100%|██████████| 9/9 [00:20<00:00,  2.28s/it]\n"
     ]
    },
    {
     "name": "stdout",
     "output_type": "stream",
     "text": [
      "                   all        260        271      0.895      0.834      0.868      0.563\n",
      "Speed: 1.8ms preprocess, 69.2ms inference, 0.0ms loss, 0.6ms postprocess per image\n",
      "Results saved to \u001b[1mgarbage_detection\\yolov8n6\u001b[0m\n"
     ]
    }
   ],
   "source": [
    "results = model.train(resume=True)"
   ]
  },
  {
   "cell_type": "code",
   "execution_count": null,
   "id": "601e9ed0",
   "metadata": {},
   "outputs": [
    {
     "name": "stdout",
     "output_type": "stream",
     "text": [
      "Ultralytics 8.3.141  Python-3.10.9 torch-2.7.0+cpu CPU (Intel Xeon Silver 4114 2.20GHz)\n",
      "\u001b[34m\u001b[1mval: \u001b[0mFast image access  (ping: 0.10.0 ms, read: 329.157.3 MB/s, size: 71.9 KB)\n"
     ]
    },
    {
     "name": "stderr",
     "output_type": "stream",
     "text": [
      "\u001b[34m\u001b[1mval: \u001b[0mScanning C:\\Users\\Gurudattaverma\\Desktop\\garbage_detection\\valid\\labels.cache... 260 images, 8 backgrounds, 0 corrupt: 100%|██████████| 260/260 [00:00<?, ?it/s]"
     ]
    },
    {
     "name": "stdout",
     "output_type": "stream",
     "text": [
      "WARNING Box and segment counts should be equal, but got len(segments) = 2, len(boxes) = 271. To resolve this only boxes will be used and all segments will be removed. To avoid this please supply either a detect or segment dataset, not a detect-segment mixed dataset.\n"
     ]
    },
    {
     "name": "stderr",
     "output_type": "stream",
     "text": [
      "\n"
     ]
    },
    {
     "name": "stdout",
     "output_type": "stream",
     "text": [
      "WARNING cache='ram' may produce non-deterministic training results. Consider cache='disk' as a deterministic alternative if your disk space allows.\n"
     ]
    },
    {
     "name": "stderr",
     "output_type": "stream",
     "text": [
      "\u001b[34m\u001b[1mval: \u001b[0mCaching images (0.3GB RAM): 100%|██████████| 260/260 [00:00<00:00, 798.41it/s]\n",
      "C:\\Users\\Gurudattaverma\\AppData\\Roaming\\Python\\Python310\\site-packages\\torch\\utils\\data\\dataloader.py:665: UserWarning: 'pin_memory' argument is set as true but no accelerator is found, then device pinned memory won't be used.\n",
      "  warnings.warn(warn_msg)\n",
      "                 Class     Images  Instances      Box(P          R      mAP50  mAP50-95): 100%|██████████| 17/17 [00:17<00:00,  1.00s/it]\n"
     ]
    },
    {
     "name": "stdout",
     "output_type": "stream",
     "text": [
      "                   all        260        271      0.896       0.83      0.877      0.615\n",
      "Speed: 1.0ms preprocess, 57.3ms inference, 0.0ms loss, 0.5ms postprocess per image\n",
      "Results saved to \u001b[1mgarbage_detection\\yolov8n9\u001b[0m\n"
     ]
    },
    {
     "data": {
      "text/plain": [
       "ultralytics.utils.metrics.DetMetrics object with attributes:\n",
       "\n",
       "ap_class_index: array([0])\n",
       "box: ultralytics.utils.metrics.Metric object\n",
       "confusion_matrix: <ultralytics.utils.metrics.ConfusionMatrix object at 0x00000260F21A5DE0>\n",
       "curves: ['Precision-Recall(B)', 'F1-Confidence(B)', 'Precision-Confidence(B)', 'Recall-Confidence(B)']\n",
       "curves_results: [[array([          0,    0.001001,    0.002002,    0.003003,    0.004004,    0.005005,    0.006006,    0.007007,    0.008008,    0.009009,     0.01001,    0.011011,    0.012012,    0.013013,    0.014014,    0.015015,    0.016016,    0.017017,    0.018018,    0.019019,     0.02002,    0.021021,    0.022022,    0.023023,\n",
       "          0.024024,    0.025025,    0.026026,    0.027027,    0.028028,    0.029029,     0.03003,    0.031031,    0.032032,    0.033033,    0.034034,    0.035035,    0.036036,    0.037037,    0.038038,    0.039039,     0.04004,    0.041041,    0.042042,    0.043043,    0.044044,    0.045045,    0.046046,    0.047047,\n",
       "          0.048048,    0.049049,     0.05005,    0.051051,    0.052052,    0.053053,    0.054054,    0.055055,    0.056056,    0.057057,    0.058058,    0.059059,     0.06006,    0.061061,    0.062062,    0.063063,    0.064064,    0.065065,    0.066066,    0.067067,    0.068068,    0.069069,     0.07007,    0.071071,\n",
       "          0.072072,    0.073073,    0.074074,    0.075075,    0.076076,    0.077077,    0.078078,    0.079079,     0.08008,    0.081081,    0.082082,    0.083083,    0.084084,    0.085085,    0.086086,    0.087087,    0.088088,    0.089089,     0.09009,    0.091091,    0.092092,    0.093093,    0.094094,    0.095095,\n",
       "          0.096096,    0.097097,    0.098098,    0.099099,      0.1001,      0.1011,      0.1021,      0.1031,      0.1041,     0.10511,     0.10611,     0.10711,     0.10811,     0.10911,     0.11011,     0.11111,     0.11211,     0.11311,     0.11411,     0.11512,     0.11612,     0.11712,     0.11812,     0.11912,\n",
       "           0.12012,     0.12112,     0.12212,     0.12312,     0.12412,     0.12513,     0.12613,     0.12713,     0.12813,     0.12913,     0.13013,     0.13113,     0.13213,     0.13313,     0.13413,     0.13514,     0.13614,     0.13714,     0.13814,     0.13914,     0.14014,     0.14114,     0.14214,     0.14314,\n",
       "           0.14414,     0.14515,     0.14615,     0.14715,     0.14815,     0.14915,     0.15015,     0.15115,     0.15215,     0.15315,     0.15415,     0.15516,     0.15616,     0.15716,     0.15816,     0.15916,     0.16016,     0.16116,     0.16216,     0.16316,     0.16416,     0.16517,     0.16617,     0.16717,\n",
       "           0.16817,     0.16917,     0.17017,     0.17117,     0.17217,     0.17317,     0.17417,     0.17518,     0.17618,     0.17718,     0.17818,     0.17918,     0.18018,     0.18118,     0.18218,     0.18318,     0.18418,     0.18519,     0.18619,     0.18719,     0.18819,     0.18919,     0.19019,     0.19119,\n",
       "           0.19219,     0.19319,     0.19419,      0.1952,      0.1962,      0.1972,      0.1982,      0.1992,      0.2002,      0.2012,      0.2022,      0.2032,      0.2042,     0.20521,     0.20621,     0.20721,     0.20821,     0.20921,     0.21021,     0.21121,     0.21221,     0.21321,     0.21421,     0.21522,\n",
       "           0.21622,     0.21722,     0.21822,     0.21922,     0.22022,     0.22122,     0.22222,     0.22322,     0.22422,     0.22523,     0.22623,     0.22723,     0.22823,     0.22923,     0.23023,     0.23123,     0.23223,     0.23323,     0.23423,     0.23524,     0.23624,     0.23724,     0.23824,     0.23924,\n",
       "           0.24024,     0.24124,     0.24224,     0.24324,     0.24424,     0.24525,     0.24625,     0.24725,     0.24825,     0.24925,     0.25025,     0.25125,     0.25225,     0.25325,     0.25425,     0.25526,     0.25626,     0.25726,     0.25826,     0.25926,     0.26026,     0.26126,     0.26226,     0.26326,\n",
       "           0.26426,     0.26527,     0.26627,     0.26727,     0.26827,     0.26927,     0.27027,     0.27127,     0.27227,     0.27327,     0.27427,     0.27528,     0.27628,     0.27728,     0.27828,     0.27928,     0.28028,     0.28128,     0.28228,     0.28328,     0.28428,     0.28529,     0.28629,     0.28729,\n",
       "           0.28829,     0.28929,     0.29029,     0.29129,     0.29229,     0.29329,     0.29429,      0.2953,      0.2963,      0.2973,      0.2983,      0.2993,      0.3003,      0.3013,      0.3023,      0.3033,      0.3043,     0.30531,     0.30631,     0.30731,     0.30831,     0.30931,     0.31031,     0.31131,\n",
       "           0.31231,     0.31331,     0.31431,     0.31532,     0.31632,     0.31732,     0.31832,     0.31932,     0.32032,     0.32132,     0.32232,     0.32332,     0.32432,     0.32533,     0.32633,     0.32733,     0.32833,     0.32933,     0.33033,     0.33133,     0.33233,     0.33333,     0.33433,     0.33534,\n",
       "           0.33634,     0.33734,     0.33834,     0.33934,     0.34034,     0.34134,     0.34234,     0.34334,     0.34434,     0.34535,     0.34635,     0.34735,     0.34835,     0.34935,     0.35035,     0.35135,     0.35235,     0.35335,     0.35435,     0.35536,     0.35636,     0.35736,     0.35836,     0.35936,\n",
       "           0.36036,     0.36136,     0.36236,     0.36336,     0.36436,     0.36537,     0.36637,     0.36737,     0.36837,     0.36937,     0.37037,     0.37137,     0.37237,     0.37337,     0.37437,     0.37538,     0.37638,     0.37738,     0.37838,     0.37938,     0.38038,     0.38138,     0.38238,     0.38338,\n",
       "           0.38438,     0.38539,     0.38639,     0.38739,     0.38839,     0.38939,     0.39039,     0.39139,     0.39239,     0.39339,     0.39439,      0.3954,      0.3964,      0.3974,      0.3984,      0.3994,      0.4004,      0.4014,      0.4024,      0.4034,      0.4044,     0.40541,     0.40641,     0.40741,\n",
       "           0.40841,     0.40941,     0.41041,     0.41141,     0.41241,     0.41341,     0.41441,     0.41542,     0.41642,     0.41742,     0.41842,     0.41942,     0.42042,     0.42142,     0.42242,     0.42342,     0.42442,     0.42543,     0.42643,     0.42743,     0.42843,     0.42943,     0.43043,     0.43143,\n",
       "           0.43243,     0.43343,     0.43443,     0.43544,     0.43644,     0.43744,     0.43844,     0.43944,     0.44044,     0.44144,     0.44244,     0.44344,     0.44444,     0.44545,     0.44645,     0.44745,     0.44845,     0.44945,     0.45045,     0.45145,     0.45245,     0.45345,     0.45445,     0.45546,\n",
       "           0.45646,     0.45746,     0.45846,     0.45946,     0.46046,     0.46146,     0.46246,     0.46346,     0.46446,     0.46547,     0.46647,     0.46747,     0.46847,     0.46947,     0.47047,     0.47147,     0.47247,     0.47347,     0.47447,     0.47548,     0.47648,     0.47748,     0.47848,     0.47948,\n",
       "           0.48048,     0.48148,     0.48248,     0.48348,     0.48448,     0.48549,     0.48649,     0.48749,     0.48849,     0.48949,     0.49049,     0.49149,     0.49249,     0.49349,     0.49449,      0.4955,      0.4965,      0.4975,      0.4985,      0.4995,      0.5005,      0.5015,      0.5025,      0.5035,\n",
       "            0.5045,     0.50551,     0.50651,     0.50751,     0.50851,     0.50951,     0.51051,     0.51151,     0.51251,     0.51351,     0.51451,     0.51552,     0.51652,     0.51752,     0.51852,     0.51952,     0.52052,     0.52152,     0.52252,     0.52352,     0.52452,     0.52553,     0.52653,     0.52753,\n",
       "           0.52853,     0.52953,     0.53053,     0.53153,     0.53253,     0.53353,     0.53453,     0.53554,     0.53654,     0.53754,     0.53854,     0.53954,     0.54054,     0.54154,     0.54254,     0.54354,     0.54454,     0.54555,     0.54655,     0.54755,     0.54855,     0.54955,     0.55055,     0.55155,\n",
       "           0.55255,     0.55355,     0.55455,     0.55556,     0.55656,     0.55756,     0.55856,     0.55956,     0.56056,     0.56156,     0.56256,     0.56356,     0.56456,     0.56557,     0.56657,     0.56757,     0.56857,     0.56957,     0.57057,     0.57157,     0.57257,     0.57357,     0.57457,     0.57558,\n",
       "           0.57658,     0.57758,     0.57858,     0.57958,     0.58058,     0.58158,     0.58258,     0.58358,     0.58458,     0.58559,     0.58659,     0.58759,     0.58859,     0.58959,     0.59059,     0.59159,     0.59259,     0.59359,     0.59459,      0.5956,      0.5966,      0.5976,      0.5986,      0.5996,\n",
       "            0.6006,      0.6016,      0.6026,      0.6036,      0.6046,     0.60561,     0.60661,     0.60761,     0.60861,     0.60961,     0.61061,     0.61161,     0.61261,     0.61361,     0.61461,     0.61562,     0.61662,     0.61762,     0.61862,     0.61962,     0.62062,     0.62162,     0.62262,     0.62362,\n",
       "           0.62462,     0.62563,     0.62663,     0.62763,     0.62863,     0.62963,     0.63063,     0.63163,     0.63263,     0.63363,     0.63463,     0.63564,     0.63664,     0.63764,     0.63864,     0.63964,     0.64064,     0.64164,     0.64264,     0.64364,     0.64464,     0.64565,     0.64665,     0.64765,\n",
       "           0.64865,     0.64965,     0.65065,     0.65165,     0.65265,     0.65365,     0.65465,     0.65566,     0.65666,     0.65766,     0.65866,     0.65966,     0.66066,     0.66166,     0.66266,     0.66366,     0.66466,     0.66567,     0.66667,     0.66767,     0.66867,     0.66967,     0.67067,     0.67167,\n",
       "           0.67267,     0.67367,     0.67467,     0.67568,     0.67668,     0.67768,     0.67868,     0.67968,     0.68068,     0.68168,     0.68268,     0.68368,     0.68468,     0.68569,     0.68669,     0.68769,     0.68869,     0.68969,     0.69069,     0.69169,     0.69269,     0.69369,     0.69469,      0.6957,\n",
       "            0.6967,      0.6977,      0.6987,      0.6997,      0.7007,      0.7017,      0.7027,      0.7037,      0.7047,     0.70571,     0.70671,     0.70771,     0.70871,     0.70971,     0.71071,     0.71171,     0.71271,     0.71371,     0.71471,     0.71572,     0.71672,     0.71772,     0.71872,     0.71972,\n",
       "           0.72072,     0.72172,     0.72272,     0.72372,     0.72472,     0.72573,     0.72673,     0.72773,     0.72873,     0.72973,     0.73073,     0.73173,     0.73273,     0.73373,     0.73473,     0.73574,     0.73674,     0.73774,     0.73874,     0.73974,     0.74074,     0.74174,     0.74274,     0.74374,\n",
       "           0.74474,     0.74575,     0.74675,     0.74775,     0.74875,     0.74975,     0.75075,     0.75175,     0.75275,     0.75375,     0.75475,     0.75576,     0.75676,     0.75776,     0.75876,     0.75976,     0.76076,     0.76176,     0.76276,     0.76376,     0.76476,     0.76577,     0.76677,     0.76777,\n",
       "           0.76877,     0.76977,     0.77077,     0.77177,     0.77277,     0.77377,     0.77477,     0.77578,     0.77678,     0.77778,     0.77878,     0.77978,     0.78078,     0.78178,     0.78278,     0.78378,     0.78478,     0.78579,     0.78679,     0.78779,     0.78879,     0.78979,     0.79079,     0.79179,\n",
       "           0.79279,     0.79379,     0.79479,      0.7958,      0.7968,      0.7978,      0.7988,      0.7998,      0.8008,      0.8018,      0.8028,      0.8038,      0.8048,     0.80581,     0.80681,     0.80781,     0.80881,     0.80981,     0.81081,     0.81181,     0.81281,     0.81381,     0.81481,     0.81582,\n",
       "           0.81682,     0.81782,     0.81882,     0.81982,     0.82082,     0.82182,     0.82282,     0.82382,     0.82482,     0.82583,     0.82683,     0.82783,     0.82883,     0.82983,     0.83083,     0.83183,     0.83283,     0.83383,     0.83483,     0.83584,     0.83684,     0.83784,     0.83884,     0.83984,\n",
       "           0.84084,     0.84184,     0.84284,     0.84384,     0.84484,     0.84585,     0.84685,     0.84785,     0.84885,     0.84985,     0.85085,     0.85185,     0.85285,     0.85385,     0.85485,     0.85586,     0.85686,     0.85786,     0.85886,     0.85986,     0.86086,     0.86186,     0.86286,     0.86386,\n",
       "           0.86486,     0.86587,     0.86687,     0.86787,     0.86887,     0.86987,     0.87087,     0.87187,     0.87287,     0.87387,     0.87487,     0.87588,     0.87688,     0.87788,     0.87888,     0.87988,     0.88088,     0.88188,     0.88288,     0.88388,     0.88488,     0.88589,     0.88689,     0.88789,\n",
       "           0.88889,     0.88989,     0.89089,     0.89189,     0.89289,     0.89389,     0.89489,      0.8959,      0.8969,      0.8979,      0.8989,      0.8999,      0.9009,      0.9019,      0.9029,      0.9039,      0.9049,     0.90591,     0.90691,     0.90791,     0.90891,     0.90991,     0.91091,     0.91191,\n",
       "           0.91291,     0.91391,     0.91491,     0.91592,     0.91692,     0.91792,     0.91892,     0.91992,     0.92092,     0.92192,     0.92292,     0.92392,     0.92492,     0.92593,     0.92693,     0.92793,     0.92893,     0.92993,     0.93093,     0.93193,     0.93293,     0.93393,     0.93493,     0.93594,\n",
       "           0.93694,     0.93794,     0.93894,     0.93994,     0.94094,     0.94194,     0.94294,     0.94394,     0.94494,     0.94595,     0.94695,     0.94795,     0.94895,     0.94995,     0.95095,     0.95195,     0.95295,     0.95395,     0.95495,     0.95596,     0.95696,     0.95796,     0.95896,     0.95996,\n",
       "           0.96096,     0.96196,     0.96296,     0.96396,     0.96496,     0.96597,     0.96697,     0.96797,     0.96897,     0.96997,     0.97097,     0.97197,     0.97297,     0.97397,     0.97497,     0.97598,     0.97698,     0.97798,     0.97898,     0.97998,     0.98098,     0.98198,     0.98298,     0.98398,\n",
       "           0.98498,     0.98599,     0.98699,     0.98799,     0.98899,     0.98999,     0.99099,     0.99199,     0.99299,     0.99399,     0.99499,       0.996,       0.997,       0.998,       0.999,           1]), array([[          1,           1,           1,           1,           1,           1,           1,           1,           1,           1,           1,           1,           1,           1,           1,           1,           1,           1,           1,           1,           1,           1,           1,\n",
       "                  1,           1,           1,           1,           1,           1,           1,           1,           1,           1,           1,     0.97297,     0.97297,     0.97297,     0.97297,     0.97297,     0.97297,     0.97297,     0.97297,     0.97297,     0.97297,     0.97297,     0.97297,\n",
       "            0.97297,     0.97297,     0.97297,     0.97297,     0.97297,     0.97297,     0.97297,     0.97297,     0.97297,     0.97297,     0.97297,     0.97297,     0.97297,     0.97297,     0.97297,     0.97297,     0.97297,     0.97297,     0.97297,     0.97297,     0.97297,     0.97297,     0.97297,\n",
       "            0.97297,     0.97297,     0.97297,     0.97297,     0.97297,     0.97297,     0.97297,     0.97297,     0.97297,     0.97297,     0.97297,     0.97297,     0.97297,     0.97297,     0.97297,     0.97297,     0.97297,     0.97297,     0.97297,     0.97297,     0.97297,     0.97297,     0.97297,\n",
       "            0.97297,     0.97297,     0.97297,     0.97297,     0.97297,     0.97297,     0.97297,     0.97297,     0.97297,     0.97297,     0.97297,     0.97297,     0.97297,     0.97297,     0.97297,     0.97297,     0.97297,     0.97297,     0.97297,     0.97297,     0.97297,     0.97297,     0.97297,\n",
       "            0.97297,     0.97297,     0.97297,     0.97297,     0.97297,     0.97297,     0.97297,     0.97297,     0.97297,     0.97297,     0.97297,     0.97297,     0.97297,     0.97297,     0.97297,     0.97297,     0.97297,     0.97297,     0.95597,     0.95597,     0.95597,     0.95597,     0.95597,\n",
       "            0.95597,     0.95597,     0.95597,     0.95597,     0.95597,     0.95597,     0.95597,     0.95597,     0.95597,     0.95597,     0.95597,     0.95597,     0.95597,     0.95597,     0.95597,     0.95597,     0.95597,     0.95597,     0.95597,     0.95597,     0.95597,     0.95597,     0.95597,\n",
       "            0.95597,     0.95597,     0.95597,     0.95597,     0.95597,     0.95597,     0.95597,     0.95597,     0.95597,     0.95597,     0.95597,     0.95597,     0.95597,     0.95597,     0.95597,     0.95597,     0.95597,     0.95597,     0.95597,     0.95597,     0.95597,     0.95597,     0.95597,\n",
       "            0.95597,     0.95597,     0.95597,     0.95597,     0.95597,     0.95597,     0.95597,     0.95597,     0.95597,     0.95597,     0.95597,     0.95597,     0.95597,     0.95597,     0.95597,     0.95597,     0.95597,     0.95597,     0.95597,     0.95597,     0.95597,     0.95597,     0.95597,\n",
       "            0.95597,     0.95597,     0.95597,     0.95597,     0.95597,     0.95597,     0.95597,     0.95597,     0.95597,     0.95597,     0.95597,     0.95597,     0.95597,     0.95597,     0.95597,     0.95597,     0.95597,     0.95597,     0.95597,     0.95597,     0.95597,     0.95597,     0.95597,\n",
       "            0.95597,     0.95597,     0.95597,     0.95597,     0.95597,     0.95597,     0.95597,     0.95597,     0.95597,     0.95597,     0.95597,     0.95597,     0.95597,     0.95597,     0.95597,     0.95597,     0.95597,     0.95597,     0.95597,     0.95597,     0.95597,     0.95597,     0.95597,\n",
       "            0.95597,     0.95597,     0.95597,     0.95597,     0.95597,     0.95597,     0.95597,     0.95597,     0.95597,     0.95597,     0.95597,     0.95597,     0.95597,     0.95597,     0.95597,     0.95597,     0.95597,     0.95597,     0.95597,     0.95597,     0.95597,     0.95597,     0.95597,\n",
       "            0.95597,     0.95597,     0.95597,     0.95597,     0.95597,     0.95597,     0.95597,     0.95597,     0.95597,     0.95597,     0.95597,     0.95597,     0.95597,     0.95597,     0.95597,     0.95597,     0.95597,     0.95597,     0.95597,     0.95597,     0.95597,     0.95597,     0.95597,\n",
       "            0.95597,     0.95597,     0.95597,     0.95597,     0.95597,     0.95597,     0.95597,     0.95597,     0.95597,     0.95597,     0.95597,     0.95597,     0.95597,     0.95597,     0.95597,     0.95597,     0.95597,     0.95597,     0.95597,     0.95597,     0.95597,     0.95597,     0.95597,\n",
       "            0.95597,     0.95597,     0.95597,     0.95597,     0.95597,     0.95597,     0.95597,     0.95597,     0.95597,     0.95597,     0.95597,     0.95597,     0.95597,     0.95597,     0.95597,     0.95597,     0.95597,     0.95597,     0.95597,     0.95597,     0.95597,     0.95597,     0.95597,\n",
       "            0.95597,     0.95597,     0.95597,     0.95597,     0.95597,     0.95597,     0.95597,     0.95597,     0.95597,     0.95597,     0.95597,     0.95597,     0.95597,     0.95597,     0.95597,     0.95597,     0.95597,     0.95597,     0.95597,     0.95597,     0.95597,     0.95597,     0.95597,\n",
       "            0.95597,     0.95597,     0.95597,     0.95597,     0.95597,     0.95597,     0.95597,     0.95597,     0.95597,     0.95597,     0.95597,     0.95597,     0.95597,     0.95597,     0.95597,     0.95597,     0.95597,     0.95597,     0.95597,     0.95597,     0.95597,     0.95597,     0.95597,\n",
       "            0.95597,     0.95597,     0.95597,     0.95597,     0.95597,     0.95597,     0.95597,     0.95597,     0.95597,     0.95597,     0.95597,     0.95597,     0.95597,     0.95597,     0.95597,     0.95597,     0.95597,     0.95597,     0.95597,     0.95597,     0.95597,     0.95597,     0.95597,\n",
       "            0.95597,     0.95597,     0.95597,     0.95597,     0.95597,     0.95597,     0.95597,     0.95597,     0.95597,     0.95597,     0.95597,     0.95597,     0.95597,     0.95597,     0.95597,     0.95597,     0.95597,     0.95597,     0.95597,     0.95597,     0.95597,     0.95597,     0.95597,\n",
       "            0.95597,     0.95597,     0.95597,     0.95597,     0.95597,     0.95597,     0.95597,     0.95597,     0.95597,     0.95597,     0.95597,     0.95597,     0.95597,     0.95597,     0.95597,     0.95597,     0.95597,     0.95597,     0.95597,     0.95597,     0.95597,     0.95597,     0.95597,\n",
       "            0.95597,     0.95597,     0.95597,     0.95597,     0.95597,     0.95597,     0.95597,     0.95597,     0.95597,     0.95597,     0.95597,     0.95597,     0.95597,     0.95597,     0.95597,     0.95597,     0.95597,     0.95597,     0.95597,     0.95597,     0.95597,     0.95597,     0.95597,\n",
       "            0.95597,     0.95597,     0.95597,     0.95597,     0.95597,     0.95597,     0.95597,     0.95597,     0.95597,     0.95597,     0.95597,     0.95597,     0.95597,     0.95597,     0.95597,     0.95597,     0.95597,     0.95597,     0.95597,     0.95597,     0.95597,     0.95597,     0.95597,\n",
       "            0.95597,     0.95597,     0.95597,     0.95597,     0.95597,     0.95597,     0.95597,     0.95597,     0.95597,     0.95597,     0.95597,     0.95597,     0.95597,     0.95597,     0.95597,     0.95597,     0.95597,     0.95597,     0.95597,     0.95597,     0.95597,     0.95597,     0.95597,\n",
       "            0.95597,     0.95597,     0.95597,     0.95597,     0.95597,     0.95597,     0.95597,     0.95597,     0.95597,     0.95597,     0.95597,     0.95597,     0.95597,     0.95597,     0.95597,     0.95597,     0.95597,     0.95597,     0.95597,     0.95597,     0.95597,     0.95597,     0.95597,\n",
       "            0.95597,     0.95597,     0.95597,     0.95597,     0.95597,     0.95597,     0.95597,     0.95597,     0.95597,     0.95402,     0.95402,     0.95402,     0.95402,     0.95402,     0.95402,     0.95402,     0.95402,     0.95402,     0.95402,     0.95402,     0.95402,     0.95402,     0.95402,\n",
       "            0.95402,     0.95402,     0.95402,     0.95402,     0.95402,     0.95402,     0.95402,     0.95402,     0.95402,     0.95402,     0.95402,     0.95402,     0.95402,     0.95402,     0.95402,     0.95402,     0.95402,     0.95402,     0.95402,     0.95402,     0.95402,     0.95402,     0.95402,\n",
       "            0.95402,     0.95402,     0.95402,     0.95402,     0.95402,     0.95402,     0.95402,     0.95402,     0.95402,     0.95402,     0.95402,     0.95402,     0.95402,     0.95402,     0.95109,     0.95109,     0.95109,     0.95109,     0.95109,     0.95109,     0.95109,     0.95109,     0.95109,\n",
       "            0.95109,     0.95109,     0.95109,     0.95109,     0.95109,     0.95109,     0.95109,     0.95109,     0.95109,     0.95109,     0.95109,     0.95109,     0.95109,     0.95109,     0.95109,     0.95109,     0.95109,     0.95109,     0.95109,     0.95109,     0.95109,     0.95109,     0.95109,\n",
       "            0.95109,     0.95109,     0.94258,     0.94258,     0.94258,     0.94258,     0.94258,     0.94258,     0.94258,     0.94258,     0.94258,     0.94258,     0.94258,     0.94258,     0.94258,     0.94258,     0.94258,     0.94258,     0.94258,     0.94258,     0.94258,     0.94258,     0.94258,\n",
       "            0.94258,     0.94258,     0.94258,     0.94258,     0.94258,     0.94258,     0.94258,     0.94258,     0.94258,     0.94258,     0.94258,     0.94258,     0.94258,     0.94258,     0.94258,     0.94258,     0.94258,     0.94258,     0.94258,     0.94258,     0.94258,     0.94258,     0.94258,\n",
       "            0.94258,     0.94258,     0.94258,     0.94258,     0.94258,     0.94258,     0.94258,     0.94258,     0.94258,     0.94258,     0.94258,     0.94258,     0.94258,     0.94258,     0.94258,     0.94258,     0.94258,     0.94258,     0.94258,     0.94258,     0.94258,     0.94258,     0.94258,\n",
       "            0.94258,     0.94258,     0.94258,     0.94258,     0.94258,     0.94258,     0.94258,     0.94258,     0.94258,     0.94258,     0.94258,     0.94258,     0.94258,     0.94258,     0.93897,     0.93897,     0.93897,     0.93897,     0.93897,     0.93897,     0.93897,     0.93897,     0.93897,\n",
       "            0.93897,     0.93897,     0.93636,     0.93636,     0.93636,     0.93636,     0.93636,     0.93636,     0.93636,     0.93636,     0.93636,     0.93636,     0.93636,     0.93636,     0.93636,     0.93636,     0.93636,     0.93636,     0.93636,     0.93636,     0.93636,     0.93636,     0.93636,\n",
       "            0.93636,     0.93333,     0.93333,     0.93333,     0.93333,     0.93333,     0.93333,     0.93333,     0.93333,     0.93333,     0.93333,     0.93333,     0.93333,     0.93333,     0.93333,     0.93333,     0.92735,     0.92735,     0.92735,     0.92735,     0.92735,     0.92735,     0.92735,\n",
       "            0.92735,     0.92735,     0.92735,     0.92735,     0.92735,     0.92735,     0.92735,     0.92735,     0.92735,     0.92735,     0.92735,     0.92735,     0.92735,     0.92735,     0.92735,     0.92735,     0.92735,     0.92735,     0.92437,     0.92437,     0.92437,     0.92437,     0.92437,\n",
       "            0.92437,     0.92437,     0.92437,     0.92437,     0.92437,     0.92437,     0.92149,     0.92149,     0.92149,     0.92149,     0.92149,     0.92149,     0.92149,     0.92149,     0.92149,     0.92149,     0.92149,     0.92149,     0.91429,     0.91429,     0.91429,     0.90361,     0.90361,\n",
       "            0.90361,     0.90361,     0.89683,     0.89683,     0.89683,     0.89683,     0.89062,     0.89062,     0.89062,     0.89062,     0.89062,     0.89062,     0.89062,      0.8876,      0.8876,      0.8876,      0.8876,     0.87218,     0.87218,     0.87218,     0.87218,     0.87218,     0.87218,\n",
       "            0.87218,     0.87218,     0.87218,     0.87218,     0.87218,     0.85152,     0.84556,     0.83961,     0.83365,      0.8277,     0.82174,     0.81579,     0.80984,     0.80388,     0.79793,     0.79197,     0.78602,     0.78006,     0.77411,     0.76815,      0.7622,     0.75624,     0.75029,\n",
       "            0.74433,     0.73838,     0.73242,     0.72647,     0.72052,     0.71456,     0.70861,     0.70265,      0.6967,     0.69074,     0.68479,     0.67883,     0.67288,     0.66692,     0.66097,     0.65501,     0.64906,      0.6431,     0.63715,      0.6312,     0.62524,     0.61929,     0.61333,\n",
       "            0.60738,     0.60142,     0.59547,     0.58951,     0.58356,      0.5776,     0.57165,     0.56569,     0.55974,     0.55378,     0.54783,     0.54188,     0.53592,     0.52997,     0.52401,     0.51806,      0.5121,     0.50615,     0.50019,     0.49424,     0.48828,     0.48233,     0.47637,\n",
       "            0.47042,     0.46446,     0.45851,     0.45256,      0.4466,     0.44065,     0.43469,     0.42874,     0.42278,     0.41683,     0.41087,     0.40492,     0.39896,     0.39301,     0.38705,      0.3811,     0.37514,     0.36919,     0.36324,     0.35728,     0.35133,     0.34537,     0.33942,\n",
       "            0.33346,     0.32751,     0.32155,      0.3156,     0.30964,     0.30369,     0.29773,     0.29178,     0.28582,     0.27987,     0.27391,     0.26796,     0.26201,     0.25605,      0.2501,     0.24414,     0.23819,     0.23223,     0.22628,     0.22032,     0.21437,     0.20841,     0.20246,\n",
       "             0.1965,     0.19055,     0.18459,     0.17864,     0.17269,     0.16673,     0.16078,     0.15482,     0.14887,     0.14291,     0.13696,       0.131,     0.12505,     0.11909,     0.11314,     0.10718,     0.10123,    0.095275,     0.08932,    0.083365,    0.077411,    0.071456,    0.065501,\n",
       "           0.059547,    0.053592,    0.047637,    0.041683,    0.035728,    0.029773,    0.023819,    0.017864,    0.011909,   0.0059547,           0]]), 'Recall', 'Precision'], [array([          0,    0.001001,    0.002002,    0.003003,    0.004004,    0.005005,    0.006006,    0.007007,    0.008008,    0.009009,     0.01001,    0.011011,    0.012012,    0.013013,    0.014014,    0.015015,    0.016016,    0.017017,    0.018018,    0.019019,     0.02002,    0.021021,    0.022022,    0.023023,\n",
       "          0.024024,    0.025025,    0.026026,    0.027027,    0.028028,    0.029029,     0.03003,    0.031031,    0.032032,    0.033033,    0.034034,    0.035035,    0.036036,    0.037037,    0.038038,    0.039039,     0.04004,    0.041041,    0.042042,    0.043043,    0.044044,    0.045045,    0.046046,    0.047047,\n",
       "          0.048048,    0.049049,     0.05005,    0.051051,    0.052052,    0.053053,    0.054054,    0.055055,    0.056056,    0.057057,    0.058058,    0.059059,     0.06006,    0.061061,    0.062062,    0.063063,    0.064064,    0.065065,    0.066066,    0.067067,    0.068068,    0.069069,     0.07007,    0.071071,\n",
       "          0.072072,    0.073073,    0.074074,    0.075075,    0.076076,    0.077077,    0.078078,    0.079079,     0.08008,    0.081081,    0.082082,    0.083083,    0.084084,    0.085085,    0.086086,    0.087087,    0.088088,    0.089089,     0.09009,    0.091091,    0.092092,    0.093093,    0.094094,    0.095095,\n",
       "          0.096096,    0.097097,    0.098098,    0.099099,      0.1001,      0.1011,      0.1021,      0.1031,      0.1041,     0.10511,     0.10611,     0.10711,     0.10811,     0.10911,     0.11011,     0.11111,     0.11211,     0.11311,     0.11411,     0.11512,     0.11612,     0.11712,     0.11812,     0.11912,\n",
       "           0.12012,     0.12112,     0.12212,     0.12312,     0.12412,     0.12513,     0.12613,     0.12713,     0.12813,     0.12913,     0.13013,     0.13113,     0.13213,     0.13313,     0.13413,     0.13514,     0.13614,     0.13714,     0.13814,     0.13914,     0.14014,     0.14114,     0.14214,     0.14314,\n",
       "           0.14414,     0.14515,     0.14615,     0.14715,     0.14815,     0.14915,     0.15015,     0.15115,     0.15215,     0.15315,     0.15415,     0.15516,     0.15616,     0.15716,     0.15816,     0.15916,     0.16016,     0.16116,     0.16216,     0.16316,     0.16416,     0.16517,     0.16617,     0.16717,\n",
       "           0.16817,     0.16917,     0.17017,     0.17117,     0.17217,     0.17317,     0.17417,     0.17518,     0.17618,     0.17718,     0.17818,     0.17918,     0.18018,     0.18118,     0.18218,     0.18318,     0.18418,     0.18519,     0.18619,     0.18719,     0.18819,     0.18919,     0.19019,     0.19119,\n",
       "           0.19219,     0.19319,     0.19419,      0.1952,      0.1962,      0.1972,      0.1982,      0.1992,      0.2002,      0.2012,      0.2022,      0.2032,      0.2042,     0.20521,     0.20621,     0.20721,     0.20821,     0.20921,     0.21021,     0.21121,     0.21221,     0.21321,     0.21421,     0.21522,\n",
       "           0.21622,     0.21722,     0.21822,     0.21922,     0.22022,     0.22122,     0.22222,     0.22322,     0.22422,     0.22523,     0.22623,     0.22723,     0.22823,     0.22923,     0.23023,     0.23123,     0.23223,     0.23323,     0.23423,     0.23524,     0.23624,     0.23724,     0.23824,     0.23924,\n",
       "           0.24024,     0.24124,     0.24224,     0.24324,     0.24424,     0.24525,     0.24625,     0.24725,     0.24825,     0.24925,     0.25025,     0.25125,     0.25225,     0.25325,     0.25425,     0.25526,     0.25626,     0.25726,     0.25826,     0.25926,     0.26026,     0.26126,     0.26226,     0.26326,\n",
       "           0.26426,     0.26527,     0.26627,     0.26727,     0.26827,     0.26927,     0.27027,     0.27127,     0.27227,     0.27327,     0.27427,     0.27528,     0.27628,     0.27728,     0.27828,     0.27928,     0.28028,     0.28128,     0.28228,     0.28328,     0.28428,     0.28529,     0.28629,     0.28729,\n",
       "           0.28829,     0.28929,     0.29029,     0.29129,     0.29229,     0.29329,     0.29429,      0.2953,      0.2963,      0.2973,      0.2983,      0.2993,      0.3003,      0.3013,      0.3023,      0.3033,      0.3043,     0.30531,     0.30631,     0.30731,     0.30831,     0.30931,     0.31031,     0.31131,\n",
       "           0.31231,     0.31331,     0.31431,     0.31532,     0.31632,     0.31732,     0.31832,     0.31932,     0.32032,     0.32132,     0.32232,     0.32332,     0.32432,     0.32533,     0.32633,     0.32733,     0.32833,     0.32933,     0.33033,     0.33133,     0.33233,     0.33333,     0.33433,     0.33534,\n",
       "           0.33634,     0.33734,     0.33834,     0.33934,     0.34034,     0.34134,     0.34234,     0.34334,     0.34434,     0.34535,     0.34635,     0.34735,     0.34835,     0.34935,     0.35035,     0.35135,     0.35235,     0.35335,     0.35435,     0.35536,     0.35636,     0.35736,     0.35836,     0.35936,\n",
       "           0.36036,     0.36136,     0.36236,     0.36336,     0.36436,     0.36537,     0.36637,     0.36737,     0.36837,     0.36937,     0.37037,     0.37137,     0.37237,     0.37337,     0.37437,     0.37538,     0.37638,     0.37738,     0.37838,     0.37938,     0.38038,     0.38138,     0.38238,     0.38338,\n",
       "           0.38438,     0.38539,     0.38639,     0.38739,     0.38839,     0.38939,     0.39039,     0.39139,     0.39239,     0.39339,     0.39439,      0.3954,      0.3964,      0.3974,      0.3984,      0.3994,      0.4004,      0.4014,      0.4024,      0.4034,      0.4044,     0.40541,     0.40641,     0.40741,\n",
       "           0.40841,     0.40941,     0.41041,     0.41141,     0.41241,     0.41341,     0.41441,     0.41542,     0.41642,     0.41742,     0.41842,     0.41942,     0.42042,     0.42142,     0.42242,     0.42342,     0.42442,     0.42543,     0.42643,     0.42743,     0.42843,     0.42943,     0.43043,     0.43143,\n",
       "           0.43243,     0.43343,     0.43443,     0.43544,     0.43644,     0.43744,     0.43844,     0.43944,     0.44044,     0.44144,     0.44244,     0.44344,     0.44444,     0.44545,     0.44645,     0.44745,     0.44845,     0.44945,     0.45045,     0.45145,     0.45245,     0.45345,     0.45445,     0.45546,\n",
       "           0.45646,     0.45746,     0.45846,     0.45946,     0.46046,     0.46146,     0.46246,     0.46346,     0.46446,     0.46547,     0.46647,     0.46747,     0.46847,     0.46947,     0.47047,     0.47147,     0.47247,     0.47347,     0.47447,     0.47548,     0.47648,     0.47748,     0.47848,     0.47948,\n",
       "           0.48048,     0.48148,     0.48248,     0.48348,     0.48448,     0.48549,     0.48649,     0.48749,     0.48849,     0.48949,     0.49049,     0.49149,     0.49249,     0.49349,     0.49449,      0.4955,      0.4965,      0.4975,      0.4985,      0.4995,      0.5005,      0.5015,      0.5025,      0.5035,\n",
       "            0.5045,     0.50551,     0.50651,     0.50751,     0.50851,     0.50951,     0.51051,     0.51151,     0.51251,     0.51351,     0.51451,     0.51552,     0.51652,     0.51752,     0.51852,     0.51952,     0.52052,     0.52152,     0.52252,     0.52352,     0.52452,     0.52553,     0.52653,     0.52753,\n",
       "           0.52853,     0.52953,     0.53053,     0.53153,     0.53253,     0.53353,     0.53453,     0.53554,     0.53654,     0.53754,     0.53854,     0.53954,     0.54054,     0.54154,     0.54254,     0.54354,     0.54454,     0.54555,     0.54655,     0.54755,     0.54855,     0.54955,     0.55055,     0.55155,\n",
       "           0.55255,     0.55355,     0.55455,     0.55556,     0.55656,     0.55756,     0.55856,     0.55956,     0.56056,     0.56156,     0.56256,     0.56356,     0.56456,     0.56557,     0.56657,     0.56757,     0.56857,     0.56957,     0.57057,     0.57157,     0.57257,     0.57357,     0.57457,     0.57558,\n",
       "           0.57658,     0.57758,     0.57858,     0.57958,     0.58058,     0.58158,     0.58258,     0.58358,     0.58458,     0.58559,     0.58659,     0.58759,     0.58859,     0.58959,     0.59059,     0.59159,     0.59259,     0.59359,     0.59459,      0.5956,      0.5966,      0.5976,      0.5986,      0.5996,\n",
       "            0.6006,      0.6016,      0.6026,      0.6036,      0.6046,     0.60561,     0.60661,     0.60761,     0.60861,     0.60961,     0.61061,     0.61161,     0.61261,     0.61361,     0.61461,     0.61562,     0.61662,     0.61762,     0.61862,     0.61962,     0.62062,     0.62162,     0.62262,     0.62362,\n",
       "           0.62462,     0.62563,     0.62663,     0.62763,     0.62863,     0.62963,     0.63063,     0.63163,     0.63263,     0.63363,     0.63463,     0.63564,     0.63664,     0.63764,     0.63864,     0.63964,     0.64064,     0.64164,     0.64264,     0.64364,     0.64464,     0.64565,     0.64665,     0.64765,\n",
       "           0.64865,     0.64965,     0.65065,     0.65165,     0.65265,     0.65365,     0.65465,     0.65566,     0.65666,     0.65766,     0.65866,     0.65966,     0.66066,     0.66166,     0.66266,     0.66366,     0.66466,     0.66567,     0.66667,     0.66767,     0.66867,     0.66967,     0.67067,     0.67167,\n",
       "           0.67267,     0.67367,     0.67467,     0.67568,     0.67668,     0.67768,     0.67868,     0.67968,     0.68068,     0.68168,     0.68268,     0.68368,     0.68468,     0.68569,     0.68669,     0.68769,     0.68869,     0.68969,     0.69069,     0.69169,     0.69269,     0.69369,     0.69469,      0.6957,\n",
       "            0.6967,      0.6977,      0.6987,      0.6997,      0.7007,      0.7017,      0.7027,      0.7037,      0.7047,     0.70571,     0.70671,     0.70771,     0.70871,     0.70971,     0.71071,     0.71171,     0.71271,     0.71371,     0.71471,     0.71572,     0.71672,     0.71772,     0.71872,     0.71972,\n",
       "           0.72072,     0.72172,     0.72272,     0.72372,     0.72472,     0.72573,     0.72673,     0.72773,     0.72873,     0.72973,     0.73073,     0.73173,     0.73273,     0.73373,     0.73473,     0.73574,     0.73674,     0.73774,     0.73874,     0.73974,     0.74074,     0.74174,     0.74274,     0.74374,\n",
       "           0.74474,     0.74575,     0.74675,     0.74775,     0.74875,     0.74975,     0.75075,     0.75175,     0.75275,     0.75375,     0.75475,     0.75576,     0.75676,     0.75776,     0.75876,     0.75976,     0.76076,     0.76176,     0.76276,     0.76376,     0.76476,     0.76577,     0.76677,     0.76777,\n",
       "           0.76877,     0.76977,     0.77077,     0.77177,     0.77277,     0.77377,     0.77477,     0.77578,     0.77678,     0.77778,     0.77878,     0.77978,     0.78078,     0.78178,     0.78278,     0.78378,     0.78478,     0.78579,     0.78679,     0.78779,     0.78879,     0.78979,     0.79079,     0.79179,\n",
       "           0.79279,     0.79379,     0.79479,      0.7958,      0.7968,      0.7978,      0.7988,      0.7998,      0.8008,      0.8018,      0.8028,      0.8038,      0.8048,     0.80581,     0.80681,     0.80781,     0.80881,     0.80981,     0.81081,     0.81181,     0.81281,     0.81381,     0.81481,     0.81582,\n",
       "           0.81682,     0.81782,     0.81882,     0.81982,     0.82082,     0.82182,     0.82282,     0.82382,     0.82482,     0.82583,     0.82683,     0.82783,     0.82883,     0.82983,     0.83083,     0.83183,     0.83283,     0.83383,     0.83483,     0.83584,     0.83684,     0.83784,     0.83884,     0.83984,\n",
       "           0.84084,     0.84184,     0.84284,     0.84384,     0.84484,     0.84585,     0.84685,     0.84785,     0.84885,     0.84985,     0.85085,     0.85185,     0.85285,     0.85385,     0.85485,     0.85586,     0.85686,     0.85786,     0.85886,     0.85986,     0.86086,     0.86186,     0.86286,     0.86386,\n",
       "           0.86486,     0.86587,     0.86687,     0.86787,     0.86887,     0.86987,     0.87087,     0.87187,     0.87287,     0.87387,     0.87487,     0.87588,     0.87688,     0.87788,     0.87888,     0.87988,     0.88088,     0.88188,     0.88288,     0.88388,     0.88488,     0.88589,     0.88689,     0.88789,\n",
       "           0.88889,     0.88989,     0.89089,     0.89189,     0.89289,     0.89389,     0.89489,      0.8959,      0.8969,      0.8979,      0.8989,      0.8999,      0.9009,      0.9019,      0.9029,      0.9039,      0.9049,     0.90591,     0.90691,     0.90791,     0.90891,     0.90991,     0.91091,     0.91191,\n",
       "           0.91291,     0.91391,     0.91491,     0.91592,     0.91692,     0.91792,     0.91892,     0.91992,     0.92092,     0.92192,     0.92292,     0.92392,     0.92492,     0.92593,     0.92693,     0.92793,     0.92893,     0.92993,     0.93093,     0.93193,     0.93293,     0.93393,     0.93493,     0.93594,\n",
       "           0.93694,     0.93794,     0.93894,     0.93994,     0.94094,     0.94194,     0.94294,     0.94394,     0.94494,     0.94595,     0.94695,     0.94795,     0.94895,     0.94995,     0.95095,     0.95195,     0.95295,     0.95395,     0.95495,     0.95596,     0.95696,     0.95796,     0.95896,     0.95996,\n",
       "           0.96096,     0.96196,     0.96296,     0.96396,     0.96496,     0.96597,     0.96697,     0.96797,     0.96897,     0.96997,     0.97097,     0.97197,     0.97297,     0.97397,     0.97497,     0.97598,     0.97698,     0.97798,     0.97898,     0.97998,     0.98098,     0.98198,     0.98298,     0.98398,\n",
       "           0.98498,     0.98599,     0.98699,     0.98799,     0.98899,     0.98999,     0.99099,     0.99199,     0.99299,     0.99399,     0.99499,       0.996,       0.997,       0.998,       0.999,           1]), array([[    0.85609,     0.85609,     0.85609,     0.85609,     0.85609,     0.85609,     0.85609,     0.85609,     0.85609,     0.85609,     0.85609,     0.85609,     0.85609,     0.85609,     0.85609,     0.85609,     0.85609,     0.85609,     0.85609,     0.85609,     0.85609,     0.85609,     0.85609,\n",
       "            0.85609,     0.85609,     0.85609,     0.85609,     0.85609,     0.85609,     0.85609,     0.85609,     0.85609,     0.85609,     0.85609,     0.85609,     0.85609,     0.85609,     0.85609,     0.85609,     0.85609,     0.85609,     0.85609,     0.85609,     0.85609,     0.85609,     0.85609,\n",
       "            0.85609,     0.85609,     0.85609,     0.85609,     0.85609,     0.85609,     0.85609,     0.85609,     0.85609,     0.85609,     0.85609,     0.85609,     0.85609,     0.85609,     0.85609,     0.85609,     0.85609,     0.85609,     0.85609,     0.85609,     0.85609,     0.85609,     0.85609,\n",
       "            0.85609,     0.85609,     0.85609,     0.85609,     0.85609,     0.85609,     0.85609,     0.85609,     0.85609,     0.85609,     0.85609,     0.85609,     0.85609,     0.85609,     0.85609,     0.85609,     0.85609,     0.85609,     0.85609,     0.85609,     0.85609,     0.85609,     0.85609,\n",
       "            0.85609,     0.85609,     0.85609,     0.85609,     0.85609,     0.85609,     0.85609,     0.85609,     0.85609,     0.85609,     0.85609,     0.85609,     0.85609,     0.85609,     0.85609,     0.85609,     0.85609,     0.85609,     0.85609,     0.85609,     0.85609,     0.85609,     0.85609,\n",
       "            0.85609,     0.85609,     0.85609,     0.85609,     0.85609,     0.85609,     0.85609,     0.85609,     0.85609,     0.85609,     0.85609,     0.85609,     0.85609,     0.85609,     0.85609,     0.85609,     0.85609,     0.85609,     0.85609,     0.85609,     0.85609,     0.85609,     0.85609,\n",
       "            0.85609,     0.85609,     0.85609,     0.85609,     0.85609,     0.85609,     0.85609,     0.85609,     0.85609,     0.85609,     0.85609,     0.85609,     0.85609,     0.85609,     0.85609,     0.85609,     0.85609,     0.85609,     0.85609,     0.85609,     0.85609,     0.85609,     0.85609,\n",
       "            0.85609,     0.85609,     0.85609,     0.85609,     0.85609,     0.85609,     0.85609,     0.85609,     0.85609,     0.85609,     0.85609,     0.85609,     0.85609,     0.85609,     0.85609,     0.85609,     0.85609,     0.85609,     0.85609,     0.85609,     0.85609,     0.85609,     0.85609,\n",
       "            0.85609,     0.85609,     0.85609,     0.85609,     0.85609,     0.85609,     0.85609,     0.85609,     0.85609,     0.85609,     0.85609,     0.85609,     0.85609,     0.85609,     0.85609,     0.85609,     0.85609,     0.85609,     0.85609,     0.85609,     0.85609,     0.85609,     0.85609,\n",
       "            0.85609,     0.85609,     0.85609,     0.85609,     0.85609,     0.85609,     0.85609,     0.85609,     0.85609,     0.85609,     0.85609,     0.85609,     0.85609,     0.85609,     0.85609,     0.85609,     0.85609,     0.85609,     0.85609,     0.85609,     0.85609,     0.85609,     0.85609,\n",
       "            0.85609,     0.85609,     0.85609,     0.85609,     0.85609,     0.85609,     0.85609,     0.85609,     0.85609,     0.85609,     0.85609,     0.85609,     0.85609,     0.85609,     0.85609,     0.85609,     0.85609,     0.85609,     0.85609,     0.85609,     0.85609,      0.8567,     0.85752,\n",
       "            0.85777,     0.85788,       0.858,     0.85811,     0.85823,     0.85834,     0.85846,     0.85858,     0.85869,     0.85881,     0.85892,     0.85904,     0.85915,     0.85928,     0.85955,     0.85981,     0.86008,     0.86034,     0.86061,     0.86087,     0.86113,     0.86138,     0.86164,\n",
       "            0.86189,     0.86215,      0.8624,     0.86269,       0.863,      0.8633,      0.8636,     0.86391,      0.8639,     0.86357,     0.86324,     0.86292,     0.86259,     0.86226,     0.86193,      0.8615,     0.86106,     0.86063,     0.86019,     0.85768,     0.85782,     0.85796,      0.8581,\n",
       "            0.85824,     0.85837,     0.85851,     0.85865,     0.85878,     0.85892,     0.85906,      0.8592,     0.85933,     0.85944,     0.85956,     0.85968,     0.85979,     0.85991,     0.86003,     0.86015,     0.86026,     0.86038,      0.8605,     0.86061,     0.86073,     0.86085,      0.8613,\n",
       "            0.86205,     0.86261,     0.86286,      0.8631,     0.86334,     0.86359,     0.86383,     0.86407,     0.86485,     0.86577,     0.86561,     0.86544,     0.86528,     0.86512,     0.86496,     0.86479,     0.86463,     0.86447,      0.8643,     0.86414,     0.86398,     0.86381,     0.86365,\n",
       "             0.8648,     0.86311,     0.86294,     0.86277,     0.86261,     0.86244,     0.86228,     0.86211,     0.86194,     0.86178,     0.86161,     0.86145,     0.86128,     0.86111,     0.86095,     0.86103,      0.8611,     0.86118,     0.86125,     0.86132,      0.8614,     0.86147,     0.86154,\n",
       "            0.86162,     0.86169,     0.86176,     0.86184,     0.86191,     0.86198,     0.86206,     0.86213,     0.86221,     0.86228,     0.86235,     0.86243,      0.8625,     0.86257,     0.86265,     0.86274,     0.86283,     0.86291,       0.863,     0.86309,     0.86317,     0.86326,     0.86335,\n",
       "            0.86343,     0.86352,      0.8636,     0.86369,     0.86378,     0.86386,     0.86395,     0.86403,     0.86412,     0.86421,     0.86414,     0.86395,     0.86377,     0.86358,     0.86339,      0.8632,     0.86302,     0.86283,     0.86264,     0.86246,     0.86227,     0.86208,     0.86238,\n",
       "             0.8627,     0.86303,     0.86335,     0.86368,     0.86383,     0.86395,     0.86408,      0.8642,     0.86432,     0.86444,     0.86457,     0.86469,     0.86481,     0.86494,     0.86506,     0.86518,      0.8653,     0.86508,     0.86421,     0.86334,     0.86509,     0.86592,     0.86733,\n",
       "            0.86807,     0.86787,     0.86767,     0.86747,     0.86726,     0.86706,     0.86686,     0.86666,     0.86645,     0.86625,     0.86605,      0.8682,     0.86937,     0.86667,     0.86542,     0.86441,     0.86354,      0.8628,     0.86338,     0.86395,     0.86436,     0.86382,     0.86328,\n",
       "            0.86274,      0.8622,     0.86144,     0.86068,     0.85994,     0.85963,     0.85932,     0.85901,     0.85869,     0.85838,     0.85807,     0.85775,     0.85832,     0.85904,      0.8587,     0.85726,     0.85472,     0.85456,     0.85439,     0.85423,     0.85406,      0.8539,     0.85373,\n",
       "            0.85357,      0.8534,     0.85323,     0.85307,      0.8529,     0.85274,     0.85224,     0.85013,     0.84971,     0.84928,     0.84885,     0.84842,     0.84799,     0.84777,     0.84754,     0.84731,     0.84708,     0.84686,     0.84663,      0.8464,     0.84617,     0.84594,     0.84571,\n",
       "             0.8444,     0.84521,     0.84552,     0.84582,     0.84613,     0.84643,     0.84674,     0.84654,     0.84627,       0.846,     0.84573,     0.84546,      0.8452,     0.84493,     0.84466,     0.84425,      0.8433,     0.84234,       0.842,     0.84187,     0.84173,     0.84159,     0.84146,\n",
       "            0.84132,     0.84118,     0.84104,     0.84091,     0.84077,     0.84063,      0.8405,     0.84036,     0.84022,     0.84009,     0.83995,     0.83981,     0.83946,     0.83897,     0.83848,     0.83799,     0.83751,     0.83752,     0.83767,     0.83782,     0.83797,     0.83812,     0.83828,\n",
       "            0.83843,     0.83858,     0.83873,     0.83888,     0.83903,     0.83886,      0.8384,     0.83794,     0.83748,     0.83702,     0.83653,     0.83597,     0.83541,     0.83485,     0.83419,      0.8326,     0.83175,     0.83138,     0.83102,     0.83065,     0.83028,     0.82992,      0.8294,\n",
       "            0.82486,     0.82554,     0.82622,     0.82522,     0.82393,     0.82369,     0.82344,      0.8232,     0.82295,      0.8227,     0.82246,     0.82221,     0.82197,     0.82172,     0.82141,     0.82102,     0.82063,     0.82024,     0.81985,     0.81946,     0.82032,     0.81943,     0.81795,\n",
       "            0.81654,     0.81337,     0.81297,     0.81258,     0.81219,      0.8118,      0.8114,     0.81101,     0.80872,     0.80522,     0.80421,      0.8032,     0.80223,     0.80126,     0.80017,       0.799,     0.79787,     0.79679,     0.79567,     0.79313,     0.79263,     0.79213,     0.79163,\n",
       "            0.79113,     0.79063,     0.78973,     0.78881,     0.78726,     0.78501,     0.78444,     0.78386,     0.78328,     0.78273,     0.78233,     0.78194,     0.78154,     0.78114,     0.78074,     0.78035,     0.77997,      0.7796,     0.77924,     0.77887,     0.77851,     0.77814,     0.77778,\n",
       "              0.774,     0.77193,     0.77121,     0.77048,     0.76976,      0.7697,     0.76988,     0.77006,     0.77024,     0.77043,     0.77061,     0.77079,     0.77097,     0.77115,     0.76995,     0.76599,     0.76635,     0.76671,     0.76706,     0.76742,     0.76864,     0.76644,     0.76563,\n",
       "            0.76482,     0.76402,     0.76277,     0.76137,     0.75877,     0.75462,     0.75288,     0.75207,     0.75132,     0.75057,     0.74701,       0.745,      0.7459,     0.74546,     0.74503,     0.74459,     0.74415,     0.74371,     0.74327,     0.74002,     0.73929,     0.73856,     0.73782,\n",
       "             0.7345,     0.73351,     0.73251,     0.72781,     0.72573,     0.72516,      0.7246,     0.72403,     0.72347,     0.72169,     0.71928,     0.71777,     0.71613,     0.71441,     0.71213,     0.70537,     0.70579,     0.70622,     0.70664,     0.70384,     0.70278,     0.70172,     0.70034,\n",
       "            0.69803,     0.69065,      0.6884,     0.68724,     0.68608,     0.68455,     0.68275,     0.68127,     0.67984,     0.67668,     0.66963,     0.66807,     0.66659,     0.66591,     0.66522,     0.66453,     0.66385,     0.66075,     0.65963,     0.65896,     0.65828,     0.65761,      0.6569,\n",
       "            0.65586,     0.65482,     0.65378,     0.64872,     0.64605,     0.63919,      0.6355,     0.63357,     0.63291,     0.63225,     0.63159,     0.63093,     0.63006,     0.62886,     0.62767,     0.62463,     0.62082,     0.61836,     0.61667,     0.61599,     0.61532,     0.61464,     0.61397,\n",
       "            0.61267,     0.60984,     0.60858,     0.60733,      0.6054,     0.60241,     0.59993,     0.59748,     0.59524,      0.5933,     0.58876,     0.58819,     0.58762,     0.58705,     0.58647,      0.5859,     0.58533,     0.58127,     0.58021,     0.57914,     0.57807,     0.57339,      0.5698,\n",
       "            0.56744,     0.56173,     0.55688,     0.55479,     0.55371,     0.55264,     0.55146,     0.55017,     0.54888,     0.54688,     0.54457,     0.54532,      0.5454,     0.54267,     0.53638,      0.5323,     0.52982,     0.52875,     0.52768,      0.5266,     0.51372,     0.50521,     0.50105,\n",
       "             0.4966,     0.49308,     0.49122,     0.48296,     0.48119,     0.48003,     0.47886,     0.47634,     0.46956,     0.45672,     0.45513,     0.45353,     0.44534,     0.43911,     0.43698,     0.43446,     0.42762,     0.41191,     0.40976,     0.40785,     0.40689,     0.40593,     0.40498,\n",
       "            0.40402,     0.40269,     0.40085,       0.399,     0.39975,     0.39411,     0.38659,      0.3795,     0.37689,     0.36982,     0.36536,     0.36295,     0.36128,     0.36007,     0.35886,     0.35765,     0.35374,     0.34755,     0.34526,     0.34312,     0.33261,     0.33189,     0.32513,\n",
       "            0.31944,     0.30869,     0.29741,     0.29781,      0.2961,     0.28995,     0.28645,     0.28508,      0.2837,     0.28232,     0.27511,     0.26515,     0.25743,      0.2516,     0.24795,     0.24456,     0.23235,     0.23339,     0.22258,     0.21963,     0.21692,     0.21454,     0.21224,\n",
       "            0.20905,     0.20079,     0.19466,     0.18925,     0.17814,     0.17082,     0.16185,     0.16106,     0.16026,     0.15946,     0.15866,     0.15786,     0.15706,     0.15626,     0.15196,     0.14902,     0.14805,     0.14707,      0.1461,     0.14512,     0.14415,      0.1418,     0.13009,\n",
       "            0.11775,     0.10737,     0.10108,     0.09089,    0.088795,    0.086696,    0.084592,    0.082054,    0.079492,    0.077528,    0.076861,    0.076195,    0.075528,     0.07486,    0.074193,    0.073524,    0.072856,    0.072186,    0.071517,    0.064062,    0.064242,    0.059593,    0.055356,\n",
       "           0.052288,    0.048874,    0.044877,     0.04269,    0.041658,    0.040624,    0.039589,    0.038553,    0.037516,    0.036478,    0.035655,    0.034897,     0.03414,    0.033381,    0.032622,    0.031863,    0.031102,    0.030342,     0.02958,    0.014516,    0.013018,    0.011518,    0.010015,\n",
       "          0.0085098,           0,           0,           0,           0,           0,           0,           0,           0,           0,           0,           0,           0,           0,           0,           0,           0,           0,           0,           0,           0,           0,           0,\n",
       "                  0,           0,           0,           0,           0,           0,           0,           0,           0,           0,           0,           0,           0,           0,           0,           0,           0,           0,           0,           0,           0,           0,           0,\n",
       "                  0,           0,           0,           0,           0,           0,           0,           0,           0,           0,           0]]), 'Confidence', 'F1'], [array([          0,    0.001001,    0.002002,    0.003003,    0.004004,    0.005005,    0.006006,    0.007007,    0.008008,    0.009009,     0.01001,    0.011011,    0.012012,    0.013013,    0.014014,    0.015015,    0.016016,    0.017017,    0.018018,    0.019019,     0.02002,    0.021021,    0.022022,    0.023023,\n",
       "          0.024024,    0.025025,    0.026026,    0.027027,    0.028028,    0.029029,     0.03003,    0.031031,    0.032032,    0.033033,    0.034034,    0.035035,    0.036036,    0.037037,    0.038038,    0.039039,     0.04004,    0.041041,    0.042042,    0.043043,    0.044044,    0.045045,    0.046046,    0.047047,\n",
       "          0.048048,    0.049049,     0.05005,    0.051051,    0.052052,    0.053053,    0.054054,    0.055055,    0.056056,    0.057057,    0.058058,    0.059059,     0.06006,    0.061061,    0.062062,    0.063063,    0.064064,    0.065065,    0.066066,    0.067067,    0.068068,    0.069069,     0.07007,    0.071071,\n",
       "          0.072072,    0.073073,    0.074074,    0.075075,    0.076076,    0.077077,    0.078078,    0.079079,     0.08008,    0.081081,    0.082082,    0.083083,    0.084084,    0.085085,    0.086086,    0.087087,    0.088088,    0.089089,     0.09009,    0.091091,    0.092092,    0.093093,    0.094094,    0.095095,\n",
       "          0.096096,    0.097097,    0.098098,    0.099099,      0.1001,      0.1011,      0.1021,      0.1031,      0.1041,     0.10511,     0.10611,     0.10711,     0.10811,     0.10911,     0.11011,     0.11111,     0.11211,     0.11311,     0.11411,     0.11512,     0.11612,     0.11712,     0.11812,     0.11912,\n",
       "           0.12012,     0.12112,     0.12212,     0.12312,     0.12412,     0.12513,     0.12613,     0.12713,     0.12813,     0.12913,     0.13013,     0.13113,     0.13213,     0.13313,     0.13413,     0.13514,     0.13614,     0.13714,     0.13814,     0.13914,     0.14014,     0.14114,     0.14214,     0.14314,\n",
       "           0.14414,     0.14515,     0.14615,     0.14715,     0.14815,     0.14915,     0.15015,     0.15115,     0.15215,     0.15315,     0.15415,     0.15516,     0.15616,     0.15716,     0.15816,     0.15916,     0.16016,     0.16116,     0.16216,     0.16316,     0.16416,     0.16517,     0.16617,     0.16717,\n",
       "           0.16817,     0.16917,     0.17017,     0.17117,     0.17217,     0.17317,     0.17417,     0.17518,     0.17618,     0.17718,     0.17818,     0.17918,     0.18018,     0.18118,     0.18218,     0.18318,     0.18418,     0.18519,     0.18619,     0.18719,     0.18819,     0.18919,     0.19019,     0.19119,\n",
       "           0.19219,     0.19319,     0.19419,      0.1952,      0.1962,      0.1972,      0.1982,      0.1992,      0.2002,      0.2012,      0.2022,      0.2032,      0.2042,     0.20521,     0.20621,     0.20721,     0.20821,     0.20921,     0.21021,     0.21121,     0.21221,     0.21321,     0.21421,     0.21522,\n",
       "           0.21622,     0.21722,     0.21822,     0.21922,     0.22022,     0.22122,     0.22222,     0.22322,     0.22422,     0.22523,     0.22623,     0.22723,     0.22823,     0.22923,     0.23023,     0.23123,     0.23223,     0.23323,     0.23423,     0.23524,     0.23624,     0.23724,     0.23824,     0.23924,\n",
       "           0.24024,     0.24124,     0.24224,     0.24324,     0.24424,     0.24525,     0.24625,     0.24725,     0.24825,     0.24925,     0.25025,     0.25125,     0.25225,     0.25325,     0.25425,     0.25526,     0.25626,     0.25726,     0.25826,     0.25926,     0.26026,     0.26126,     0.26226,     0.26326,\n",
       "           0.26426,     0.26527,     0.26627,     0.26727,     0.26827,     0.26927,     0.27027,     0.27127,     0.27227,     0.27327,     0.27427,     0.27528,     0.27628,     0.27728,     0.27828,     0.27928,     0.28028,     0.28128,     0.28228,     0.28328,     0.28428,     0.28529,     0.28629,     0.28729,\n",
       "           0.28829,     0.28929,     0.29029,     0.29129,     0.29229,     0.29329,     0.29429,      0.2953,      0.2963,      0.2973,      0.2983,      0.2993,      0.3003,      0.3013,      0.3023,      0.3033,      0.3043,     0.30531,     0.30631,     0.30731,     0.30831,     0.30931,     0.31031,     0.31131,\n",
       "           0.31231,     0.31331,     0.31431,     0.31532,     0.31632,     0.31732,     0.31832,     0.31932,     0.32032,     0.32132,     0.32232,     0.32332,     0.32432,     0.32533,     0.32633,     0.32733,     0.32833,     0.32933,     0.33033,     0.33133,     0.33233,     0.33333,     0.33433,     0.33534,\n",
       "           0.33634,     0.33734,     0.33834,     0.33934,     0.34034,     0.34134,     0.34234,     0.34334,     0.34434,     0.34535,     0.34635,     0.34735,     0.34835,     0.34935,     0.35035,     0.35135,     0.35235,     0.35335,     0.35435,     0.35536,     0.35636,     0.35736,     0.35836,     0.35936,\n",
       "           0.36036,     0.36136,     0.36236,     0.36336,     0.36436,     0.36537,     0.36637,     0.36737,     0.36837,     0.36937,     0.37037,     0.37137,     0.37237,     0.37337,     0.37437,     0.37538,     0.37638,     0.37738,     0.37838,     0.37938,     0.38038,     0.38138,     0.38238,     0.38338,\n",
       "           0.38438,     0.38539,     0.38639,     0.38739,     0.38839,     0.38939,     0.39039,     0.39139,     0.39239,     0.39339,     0.39439,      0.3954,      0.3964,      0.3974,      0.3984,      0.3994,      0.4004,      0.4014,      0.4024,      0.4034,      0.4044,     0.40541,     0.40641,     0.40741,\n",
       "           0.40841,     0.40941,     0.41041,     0.41141,     0.41241,     0.41341,     0.41441,     0.41542,     0.41642,     0.41742,     0.41842,     0.41942,     0.42042,     0.42142,     0.42242,     0.42342,     0.42442,     0.42543,     0.42643,     0.42743,     0.42843,     0.42943,     0.43043,     0.43143,\n",
       "           0.43243,     0.43343,     0.43443,     0.43544,     0.43644,     0.43744,     0.43844,     0.43944,     0.44044,     0.44144,     0.44244,     0.44344,     0.44444,     0.44545,     0.44645,     0.44745,     0.44845,     0.44945,     0.45045,     0.45145,     0.45245,     0.45345,     0.45445,     0.45546,\n",
       "           0.45646,     0.45746,     0.45846,     0.45946,     0.46046,     0.46146,     0.46246,     0.46346,     0.46446,     0.46547,     0.46647,     0.46747,     0.46847,     0.46947,     0.47047,     0.47147,     0.47247,     0.47347,     0.47447,     0.47548,     0.47648,     0.47748,     0.47848,     0.47948,\n",
       "           0.48048,     0.48148,     0.48248,     0.48348,     0.48448,     0.48549,     0.48649,     0.48749,     0.48849,     0.48949,     0.49049,     0.49149,     0.49249,     0.49349,     0.49449,      0.4955,      0.4965,      0.4975,      0.4985,      0.4995,      0.5005,      0.5015,      0.5025,      0.5035,\n",
       "            0.5045,     0.50551,     0.50651,     0.50751,     0.50851,     0.50951,     0.51051,     0.51151,     0.51251,     0.51351,     0.51451,     0.51552,     0.51652,     0.51752,     0.51852,     0.51952,     0.52052,     0.52152,     0.52252,     0.52352,     0.52452,     0.52553,     0.52653,     0.52753,\n",
       "           0.52853,     0.52953,     0.53053,     0.53153,     0.53253,     0.53353,     0.53453,     0.53554,     0.53654,     0.53754,     0.53854,     0.53954,     0.54054,     0.54154,     0.54254,     0.54354,     0.54454,     0.54555,     0.54655,     0.54755,     0.54855,     0.54955,     0.55055,     0.55155,\n",
       "           0.55255,     0.55355,     0.55455,     0.55556,     0.55656,     0.55756,     0.55856,     0.55956,     0.56056,     0.56156,     0.56256,     0.56356,     0.56456,     0.56557,     0.56657,     0.56757,     0.56857,     0.56957,     0.57057,     0.57157,     0.57257,     0.57357,     0.57457,     0.57558,\n",
       "           0.57658,     0.57758,     0.57858,     0.57958,     0.58058,     0.58158,     0.58258,     0.58358,     0.58458,     0.58559,     0.58659,     0.58759,     0.58859,     0.58959,     0.59059,     0.59159,     0.59259,     0.59359,     0.59459,      0.5956,      0.5966,      0.5976,      0.5986,      0.5996,\n",
       "            0.6006,      0.6016,      0.6026,      0.6036,      0.6046,     0.60561,     0.60661,     0.60761,     0.60861,     0.60961,     0.61061,     0.61161,     0.61261,     0.61361,     0.61461,     0.61562,     0.61662,     0.61762,     0.61862,     0.61962,     0.62062,     0.62162,     0.62262,     0.62362,\n",
       "           0.62462,     0.62563,     0.62663,     0.62763,     0.62863,     0.62963,     0.63063,     0.63163,     0.63263,     0.63363,     0.63463,     0.63564,     0.63664,     0.63764,     0.63864,     0.63964,     0.64064,     0.64164,     0.64264,     0.64364,     0.64464,     0.64565,     0.64665,     0.64765,\n",
       "           0.64865,     0.64965,     0.65065,     0.65165,     0.65265,     0.65365,     0.65465,     0.65566,     0.65666,     0.65766,     0.65866,     0.65966,     0.66066,     0.66166,     0.66266,     0.66366,     0.66466,     0.66567,     0.66667,     0.66767,     0.66867,     0.66967,     0.67067,     0.67167,\n",
       "           0.67267,     0.67367,     0.67467,     0.67568,     0.67668,     0.67768,     0.67868,     0.67968,     0.68068,     0.68168,     0.68268,     0.68368,     0.68468,     0.68569,     0.68669,     0.68769,     0.68869,     0.68969,     0.69069,     0.69169,     0.69269,     0.69369,     0.69469,      0.6957,\n",
       "            0.6967,      0.6977,      0.6987,      0.6997,      0.7007,      0.7017,      0.7027,      0.7037,      0.7047,     0.70571,     0.70671,     0.70771,     0.70871,     0.70971,     0.71071,     0.71171,     0.71271,     0.71371,     0.71471,     0.71572,     0.71672,     0.71772,     0.71872,     0.71972,\n",
       "           0.72072,     0.72172,     0.72272,     0.72372,     0.72472,     0.72573,     0.72673,     0.72773,     0.72873,     0.72973,     0.73073,     0.73173,     0.73273,     0.73373,     0.73473,     0.73574,     0.73674,     0.73774,     0.73874,     0.73974,     0.74074,     0.74174,     0.74274,     0.74374,\n",
       "           0.74474,     0.74575,     0.74675,     0.74775,     0.74875,     0.74975,     0.75075,     0.75175,     0.75275,     0.75375,     0.75475,     0.75576,     0.75676,     0.75776,     0.75876,     0.75976,     0.76076,     0.76176,     0.76276,     0.76376,     0.76476,     0.76577,     0.76677,     0.76777,\n",
       "           0.76877,     0.76977,     0.77077,     0.77177,     0.77277,     0.77377,     0.77477,     0.77578,     0.77678,     0.77778,     0.77878,     0.77978,     0.78078,     0.78178,     0.78278,     0.78378,     0.78478,     0.78579,     0.78679,     0.78779,     0.78879,     0.78979,     0.79079,     0.79179,\n",
       "           0.79279,     0.79379,     0.79479,      0.7958,      0.7968,      0.7978,      0.7988,      0.7998,      0.8008,      0.8018,      0.8028,      0.8038,      0.8048,     0.80581,     0.80681,     0.80781,     0.80881,     0.80981,     0.81081,     0.81181,     0.81281,     0.81381,     0.81481,     0.81582,\n",
       "           0.81682,     0.81782,     0.81882,     0.81982,     0.82082,     0.82182,     0.82282,     0.82382,     0.82482,     0.82583,     0.82683,     0.82783,     0.82883,     0.82983,     0.83083,     0.83183,     0.83283,     0.83383,     0.83483,     0.83584,     0.83684,     0.83784,     0.83884,     0.83984,\n",
       "           0.84084,     0.84184,     0.84284,     0.84384,     0.84484,     0.84585,     0.84685,     0.84785,     0.84885,     0.84985,     0.85085,     0.85185,     0.85285,     0.85385,     0.85485,     0.85586,     0.85686,     0.85786,     0.85886,     0.85986,     0.86086,     0.86186,     0.86286,     0.86386,\n",
       "           0.86486,     0.86587,     0.86687,     0.86787,     0.86887,     0.86987,     0.87087,     0.87187,     0.87287,     0.87387,     0.87487,     0.87588,     0.87688,     0.87788,     0.87888,     0.87988,     0.88088,     0.88188,     0.88288,     0.88388,     0.88488,     0.88589,     0.88689,     0.88789,\n",
       "           0.88889,     0.88989,     0.89089,     0.89189,     0.89289,     0.89389,     0.89489,      0.8959,      0.8969,      0.8979,      0.8989,      0.8999,      0.9009,      0.9019,      0.9029,      0.9039,      0.9049,     0.90591,     0.90691,     0.90791,     0.90891,     0.90991,     0.91091,     0.91191,\n",
       "           0.91291,     0.91391,     0.91491,     0.91592,     0.91692,     0.91792,     0.91892,     0.91992,     0.92092,     0.92192,     0.92292,     0.92392,     0.92492,     0.92593,     0.92693,     0.92793,     0.92893,     0.92993,     0.93093,     0.93193,     0.93293,     0.93393,     0.93493,     0.93594,\n",
       "           0.93694,     0.93794,     0.93894,     0.93994,     0.94094,     0.94194,     0.94294,     0.94394,     0.94494,     0.94595,     0.94695,     0.94795,     0.94895,     0.94995,     0.95095,     0.95195,     0.95295,     0.95395,     0.95495,     0.95596,     0.95696,     0.95796,     0.95896,     0.95996,\n",
       "           0.96096,     0.96196,     0.96296,     0.96396,     0.96496,     0.96597,     0.96697,     0.96797,     0.96897,     0.96997,     0.97097,     0.97197,     0.97297,     0.97397,     0.97497,     0.97598,     0.97698,     0.97798,     0.97898,     0.97998,     0.98098,     0.98198,     0.98298,     0.98398,\n",
       "           0.98498,     0.98599,     0.98699,     0.98799,     0.98899,     0.98999,     0.99099,     0.99199,     0.99299,     0.99399,     0.99499,       0.996,       0.997,       0.998,       0.999,           1]), array([[    0.85609,     0.85609,     0.85609,     0.85609,     0.85609,     0.85609,     0.85609,     0.85609,     0.85609,     0.85609,     0.85609,     0.85609,     0.85609,     0.85609,     0.85609,     0.85609,     0.85609,     0.85609,     0.85609,     0.85609,     0.85609,     0.85609,     0.85609,\n",
       "            0.85609,     0.85609,     0.85609,     0.85609,     0.85609,     0.85609,     0.85609,     0.85609,     0.85609,     0.85609,     0.85609,     0.85609,     0.85609,     0.85609,     0.85609,     0.85609,     0.85609,     0.85609,     0.85609,     0.85609,     0.85609,     0.85609,     0.85609,\n",
       "            0.85609,     0.85609,     0.85609,     0.85609,     0.85609,     0.85609,     0.85609,     0.85609,     0.85609,     0.85609,     0.85609,     0.85609,     0.85609,     0.85609,     0.85609,     0.85609,     0.85609,     0.85609,     0.85609,     0.85609,     0.85609,     0.85609,     0.85609,\n",
       "            0.85609,     0.85609,     0.85609,     0.85609,     0.85609,     0.85609,     0.85609,     0.85609,     0.85609,     0.85609,     0.85609,     0.85609,     0.85609,     0.85609,     0.85609,     0.85609,     0.85609,     0.85609,     0.85609,     0.85609,     0.85609,     0.85609,     0.85609,\n",
       "            0.85609,     0.85609,     0.85609,     0.85609,     0.85609,     0.85609,     0.85609,     0.85609,     0.85609,     0.85609,     0.85609,     0.85609,     0.85609,     0.85609,     0.85609,     0.85609,     0.85609,     0.85609,     0.85609,     0.85609,     0.85609,     0.85609,     0.85609,\n",
       "            0.85609,     0.85609,     0.85609,     0.85609,     0.85609,     0.85609,     0.85609,     0.85609,     0.85609,     0.85609,     0.85609,     0.85609,     0.85609,     0.85609,     0.85609,     0.85609,     0.85609,     0.85609,     0.85609,     0.85609,     0.85609,     0.85609,     0.85609,\n",
       "            0.85609,     0.85609,     0.85609,     0.85609,     0.85609,     0.85609,     0.85609,     0.85609,     0.85609,     0.85609,     0.85609,     0.85609,     0.85609,     0.85609,     0.85609,     0.85609,     0.85609,     0.85609,     0.85609,     0.85609,     0.85609,     0.85609,     0.85609,\n",
       "            0.85609,     0.85609,     0.85609,     0.85609,     0.85609,     0.85609,     0.85609,     0.85609,     0.85609,     0.85609,     0.85609,     0.85609,     0.85609,     0.85609,     0.85609,     0.85609,     0.85609,     0.85609,     0.85609,     0.85609,     0.85609,     0.85609,     0.85609,\n",
       "            0.85609,     0.85609,     0.85609,     0.85609,     0.85609,     0.85609,     0.85609,     0.85609,     0.85609,     0.85609,     0.85609,     0.85609,     0.85609,     0.85609,     0.85609,     0.85609,     0.85609,     0.85609,     0.85609,     0.85609,     0.85609,     0.85609,     0.85609,\n",
       "            0.85609,     0.85609,     0.85609,     0.85609,     0.85609,     0.85609,     0.85609,     0.85609,     0.85609,     0.85609,     0.85609,     0.85609,     0.85609,     0.85609,     0.85609,     0.85609,     0.85609,     0.85609,     0.85609,     0.85609,     0.85609,     0.85609,     0.85609,\n",
       "            0.85609,     0.85609,     0.85609,     0.85609,     0.85609,     0.85609,     0.85609,     0.85609,     0.85609,     0.85609,     0.85609,     0.85609,     0.85609,     0.85609,     0.85609,     0.85609,     0.85609,     0.85609,     0.85609,     0.85609,     0.85609,     0.85732,     0.85896,\n",
       "            0.85945,     0.85968,     0.85991,     0.86015,     0.86038,     0.86061,     0.86084,     0.86108,     0.86131,     0.86154,     0.86177,     0.86201,     0.86224,     0.86249,     0.86303,     0.86357,     0.86411,     0.86464,     0.86518,     0.86571,     0.86623,     0.86675,     0.86726,\n",
       "            0.86778,     0.86829,     0.86881,      0.8694,     0.87002,     0.87063,     0.87125,     0.87187,     0.87214,     0.87207,     0.87199,     0.87192,     0.87185,     0.87177,      0.8717,      0.8716,      0.8715,      0.8714,      0.8713,     0.87074,     0.87102,      0.8713,     0.87159,\n",
       "            0.87187,     0.87216,     0.87244,     0.87272,     0.87301,     0.87329,     0.87357,     0.87386,     0.87413,     0.87437,     0.87461,     0.87485,      0.8751,     0.87534,     0.87558,     0.87582,     0.87607,     0.87631,     0.87655,     0.87679,     0.87704,     0.87728,     0.87821,\n",
       "            0.87978,     0.88096,     0.88146,     0.88197,     0.88248,     0.88299,      0.8835,     0.88401,     0.88564,     0.88759,     0.88756,     0.88753,     0.88749,     0.88746,     0.88743,     0.88739,     0.88736,     0.88733,      0.8873,     0.88726,     0.88723,      0.8872,     0.88716,\n",
       "            0.88962,     0.89019,     0.89016,     0.89013,     0.89009,     0.89006,     0.89003,     0.88999,     0.88996,     0.88993,      0.8899,     0.88986,     0.88983,      0.8898,     0.88977,     0.88992,     0.89008,     0.89024,      0.8904,     0.89055,     0.89071,     0.89087,     0.89103,\n",
       "            0.89118,     0.89134,      0.8915,     0.89166,     0.89181,     0.89197,     0.89213,     0.89229,     0.89244,      0.8926,     0.89276,     0.89292,     0.89307,     0.89323,     0.89341,     0.89359,     0.89378,     0.89396,     0.89415,     0.89433,     0.89452,     0.89471,     0.89489,\n",
       "            0.89508,     0.89526,     0.89545,     0.89563,     0.89582,       0.896,     0.89619,     0.89637,     0.89656,     0.89674,     0.89681,     0.89677,     0.89673,      0.8967,     0.89666,     0.89663,     0.89659,     0.89656,     0.89652,     0.89649,     0.89645,     0.89642,     0.89708,\n",
       "            0.89778,     0.89849,     0.89919,      0.8999,     0.90023,      0.9005,     0.90076,     0.90103,      0.9013,     0.90157,     0.90183,      0.9021,     0.90237,     0.90264,      0.9029,     0.90317,     0.90344,     0.90356,     0.90341,     0.90325,     0.90738,     0.90921,     0.91233,\n",
       "            0.91426,     0.91423,      0.9142,     0.91417,     0.91413,      0.9141,     0.91407,     0.91404,       0.914,     0.91397,     0.91394,      0.9188,     0.92142,     0.92108,      0.9209,     0.92075,     0.92062,     0.92063,     0.92194,     0.92325,     0.92436,     0.92428,      0.9242,\n",
       "            0.92413,     0.92405,     0.92394,     0.92383,     0.92373,     0.92368,     0.92364,     0.92359,     0.92355,      0.9235,     0.92346,     0.92341,     0.92483,     0.92649,     0.92725,     0.92705,      0.9267,     0.92668,     0.92666,     0.92663,     0.92661,     0.92659,     0.92657,\n",
       "            0.92654,     0.92652,      0.9265,     0.92647,     0.92645,     0.92643,     0.92636,     0.92606,       0.926,     0.92594,     0.92588,     0.92582,     0.92576,     0.92573,      0.9257,     0.92567,     0.92563,      0.9256,     0.92557,     0.92554,     0.92551,     0.92547,     0.92544,\n",
       "            0.92757,     0.92954,     0.93028,     0.93102,     0.93176,      0.9325,     0.93324,      0.9333,     0.93327,     0.93323,      0.9332,     0.93317,     0.93313,      0.9331,     0.93306,     0.93301,     0.93289,     0.93277,     0.93272,      0.9327,     0.93269,     0.93267,     0.93265,\n",
       "            0.93263,     0.93262,      0.9326,     0.93258,     0.93256,     0.93255,     0.93253,     0.93251,     0.93249,     0.93247,     0.93246,     0.93244,     0.93239,     0.93233,     0.93227,      0.9322,     0.93214,     0.93242,      0.9328,     0.93317,     0.93355,     0.93393,      0.9343,\n",
       "            0.93468,     0.93506,     0.93543,     0.93581,     0.93619,     0.93633,     0.93628,     0.93622,     0.93616,     0.93611,     0.93605,     0.93598,     0.93591,     0.93584,     0.93576,     0.93556,     0.93546,     0.93541,     0.93537,     0.93532,     0.93527,     0.93523,     0.93516,\n",
       "            0.93487,     0.93663,     0.93838,     0.93882,     0.93867,     0.93864,     0.93861,     0.93858,     0.93855,     0.93852,     0.93849,     0.93846,     0.93843,     0.93841,     0.93837,     0.93832,     0.93828,     0.93823,     0.93818,     0.93814,     0.94122,     0.94243,     0.94226,\n",
       "             0.9421,     0.94174,      0.9417,     0.94165,     0.94161,     0.94156,     0.94152,     0.94147,     0.94121,     0.94081,     0.94069,     0.94057,     0.94046,     0.94035,     0.94022,     0.94008,     0.93995,     0.93982,     0.93969,     0.93939,     0.93933,     0.93927,     0.93921,\n",
       "            0.93915,     0.93909,     0.93898,     0.93887,     0.93869,     0.93841,     0.93834,     0.93827,      0.9382,     0.93814,     0.93809,     0.93804,     0.93799,     0.93794,     0.93789,     0.93785,      0.9378,     0.93775,     0.93771,     0.93766,     0.93762,     0.93757,     0.93753,\n",
       "            0.93706,      0.9368,     0.93671,     0.93662,     0.93653,      0.9369,     0.93744,     0.93798,     0.93852,     0.93906,      0.9396,     0.94014,     0.94068,     0.94122,     0.94134,     0.94125,     0.94233,     0.94341,     0.94449,     0.94557,     0.94928,     0.95081,     0.95073,\n",
       "            0.95065,     0.95057,     0.95045,     0.95031,     0.95005,     0.94963,     0.94945,     0.94937,     0.94929,     0.94921,     0.94884,     0.95054,     0.95401,     0.95397,     0.95392,     0.95388,     0.95384,      0.9538,     0.95376,     0.95345,     0.95338,     0.95331,     0.95324,\n",
       "            0.95292,     0.95283,     0.95273,     0.95227,     0.95207,     0.95201,     0.95195,      0.9519,     0.95184,     0.95167,     0.95142,     0.95127,     0.95111,     0.95093,      0.9507,     0.95013,     0.95166,      0.9532,     0.95474,     0.95569,     0.95559,     0.95549,     0.95536,\n",
       "            0.95514,     0.95444,     0.95422,     0.95411,       0.954,     0.95385,     0.95367,     0.95352,     0.95338,     0.95307,     0.95236,      0.9522,     0.95205,     0.95198,     0.95191,     0.95183,     0.95176,     0.95144,     0.95132,     0.95125,     0.95118,     0.95111,     0.95104,\n",
       "            0.95093,     0.95082,     0.95071,     0.95016,     0.94987,     0.94912,     0.94871,     0.94849,     0.94842,     0.94834,     0.94827,     0.94819,     0.94809,     0.94796,     0.94782,     0.94747,     0.94702,     0.94674,     0.94654,     0.94645,     0.94637,     0.94629,     0.94621,\n",
       "            0.94606,     0.94572,     0.94556,     0.94541,     0.94518,     0.94481,      0.9445,     0.94419,     0.94391,     0.94366,     0.94308,     0.94301,     0.94293,     0.94286,     0.94278,     0.94271,     0.94263,      0.9421,     0.94196,     0.94182,     0.94167,     0.94104,     0.94056,\n",
       "            0.94023,     0.93943,     0.93874,     0.93844,     0.93829,     0.93813,     0.93796,     0.93777,     0.93758,     0.93729,     0.93731,     0.94182,     0.94539,     0.94503,     0.94419,     0.94364,      0.9433,     0.94315,     0.94301,     0.94286,     0.94103,     0.93977,     0.93914,\n",
       "            0.93846,     0.93791,     0.93762,     0.93629,       0.936,     0.93581,     0.93562,      0.9352,     0.93406,      0.9318,     0.93151,     0.93122,      0.9297,     0.92851,     0.92809,      0.9276,     0.92623,     0.92292,     0.92245,     0.92203,     0.92182,     0.92161,     0.92139,\n",
       "            0.92118,     0.92088,     0.92046,     0.92004,     0.92971,     0.93125,     0.92971,     0.92819,     0.92763,     0.92605,     0.92502,     0.92446,     0.92407,     0.92378,     0.92349,      0.9232,     0.92224,      0.9207,     0.92011,     0.91956,     0.92103,     0.93187,     0.93029,\n",
       "            0.92891,     0.92618,     0.92313,     0.93467,     0.94072,     0.93934,     0.93853,      0.9382,     0.93787,     0.93754,     0.93576,     0.93315,     0.93099,     0.92928,     0.92818,     0.92713,     0.92311,     0.96009,     0.97148,     0.97105,     0.97066,     0.97031,     0.96996,\n",
       "            0.96946,      0.9681,     0.96702,     0.96601,     0.96375,     0.96211,     0.95992,      0.9597,     0.95949,     0.95928,     0.95906,     0.95885,     0.95863,     0.95842,     0.95718,     0.95632,     0.95602,     0.95571,     0.95541,      0.9551,      0.9548,     0.95402,      0.9498,\n",
       "            0.94449,     0.93908,     0.93533,     0.92829,     0.92658,     0.92486,     0.92315,     0.92075,     0.91832,     0.91643,     0.91569,     0.91495,      0.9142,     0.91346,     0.91272,     0.91198,     0.91123,     0.91049,     0.90975,     0.90216,     0.97932,           1,           1,\n",
       "                  1,           1,           1,           1,           1,           1,           1,           1,           1,           1,           1,           1,           1,           1,           1,           1,           1,           1,           1,           1,           1,           1,           1,\n",
       "                  1,           1,           1,           1,           1,           1,           1,           1,           1,           1,           1,           1,           1,           1,           1,           1,           1,           1,           1,           1,           1,           1,           1,\n",
       "                  1,           1,           1,           1,           1,           1,           1,           1,           1,           1,           1,           1,           1,           1,           1,           1,           1,           1,           1,           1,           1,           1,           1,\n",
       "                  1,           1,           1,           1,           1,           1,           1,           1,           1,           1,           1]]), 'Confidence', 'Precision'], [array([          0,    0.001001,    0.002002,    0.003003,    0.004004,    0.005005,    0.006006,    0.007007,    0.008008,    0.009009,     0.01001,    0.011011,    0.012012,    0.013013,    0.014014,    0.015015,    0.016016,    0.017017,    0.018018,    0.019019,     0.02002,    0.021021,    0.022022,    0.023023,\n",
       "          0.024024,    0.025025,    0.026026,    0.027027,    0.028028,    0.029029,     0.03003,    0.031031,    0.032032,    0.033033,    0.034034,    0.035035,    0.036036,    0.037037,    0.038038,    0.039039,     0.04004,    0.041041,    0.042042,    0.043043,    0.044044,    0.045045,    0.046046,    0.047047,\n",
       "          0.048048,    0.049049,     0.05005,    0.051051,    0.052052,    0.053053,    0.054054,    0.055055,    0.056056,    0.057057,    0.058058,    0.059059,     0.06006,    0.061061,    0.062062,    0.063063,    0.064064,    0.065065,    0.066066,    0.067067,    0.068068,    0.069069,     0.07007,    0.071071,\n",
       "          0.072072,    0.073073,    0.074074,    0.075075,    0.076076,    0.077077,    0.078078,    0.079079,     0.08008,    0.081081,    0.082082,    0.083083,    0.084084,    0.085085,    0.086086,    0.087087,    0.088088,    0.089089,     0.09009,    0.091091,    0.092092,    0.093093,    0.094094,    0.095095,\n",
       "          0.096096,    0.097097,    0.098098,    0.099099,      0.1001,      0.1011,      0.1021,      0.1031,      0.1041,     0.10511,     0.10611,     0.10711,     0.10811,     0.10911,     0.11011,     0.11111,     0.11211,     0.11311,     0.11411,     0.11512,     0.11612,     0.11712,     0.11812,     0.11912,\n",
       "           0.12012,     0.12112,     0.12212,     0.12312,     0.12412,     0.12513,     0.12613,     0.12713,     0.12813,     0.12913,     0.13013,     0.13113,     0.13213,     0.13313,     0.13413,     0.13514,     0.13614,     0.13714,     0.13814,     0.13914,     0.14014,     0.14114,     0.14214,     0.14314,\n",
       "           0.14414,     0.14515,     0.14615,     0.14715,     0.14815,     0.14915,     0.15015,     0.15115,     0.15215,     0.15315,     0.15415,     0.15516,     0.15616,     0.15716,     0.15816,     0.15916,     0.16016,     0.16116,     0.16216,     0.16316,     0.16416,     0.16517,     0.16617,     0.16717,\n",
       "           0.16817,     0.16917,     0.17017,     0.17117,     0.17217,     0.17317,     0.17417,     0.17518,     0.17618,     0.17718,     0.17818,     0.17918,     0.18018,     0.18118,     0.18218,     0.18318,     0.18418,     0.18519,     0.18619,     0.18719,     0.18819,     0.18919,     0.19019,     0.19119,\n",
       "           0.19219,     0.19319,     0.19419,      0.1952,      0.1962,      0.1972,      0.1982,      0.1992,      0.2002,      0.2012,      0.2022,      0.2032,      0.2042,     0.20521,     0.20621,     0.20721,     0.20821,     0.20921,     0.21021,     0.21121,     0.21221,     0.21321,     0.21421,     0.21522,\n",
       "           0.21622,     0.21722,     0.21822,     0.21922,     0.22022,     0.22122,     0.22222,     0.22322,     0.22422,     0.22523,     0.22623,     0.22723,     0.22823,     0.22923,     0.23023,     0.23123,     0.23223,     0.23323,     0.23423,     0.23524,     0.23624,     0.23724,     0.23824,     0.23924,\n",
       "           0.24024,     0.24124,     0.24224,     0.24324,     0.24424,     0.24525,     0.24625,     0.24725,     0.24825,     0.24925,     0.25025,     0.25125,     0.25225,     0.25325,     0.25425,     0.25526,     0.25626,     0.25726,     0.25826,     0.25926,     0.26026,     0.26126,     0.26226,     0.26326,\n",
       "           0.26426,     0.26527,     0.26627,     0.26727,     0.26827,     0.26927,     0.27027,     0.27127,     0.27227,     0.27327,     0.27427,     0.27528,     0.27628,     0.27728,     0.27828,     0.27928,     0.28028,     0.28128,     0.28228,     0.28328,     0.28428,     0.28529,     0.28629,     0.28729,\n",
       "           0.28829,     0.28929,     0.29029,     0.29129,     0.29229,     0.29329,     0.29429,      0.2953,      0.2963,      0.2973,      0.2983,      0.2993,      0.3003,      0.3013,      0.3023,      0.3033,      0.3043,     0.30531,     0.30631,     0.30731,     0.30831,     0.30931,     0.31031,     0.31131,\n",
       "           0.31231,     0.31331,     0.31431,     0.31532,     0.31632,     0.31732,     0.31832,     0.31932,     0.32032,     0.32132,     0.32232,     0.32332,     0.32432,     0.32533,     0.32633,     0.32733,     0.32833,     0.32933,     0.33033,     0.33133,     0.33233,     0.33333,     0.33433,     0.33534,\n",
       "           0.33634,     0.33734,     0.33834,     0.33934,     0.34034,     0.34134,     0.34234,     0.34334,     0.34434,     0.34535,     0.34635,     0.34735,     0.34835,     0.34935,     0.35035,     0.35135,     0.35235,     0.35335,     0.35435,     0.35536,     0.35636,     0.35736,     0.35836,     0.35936,\n",
       "           0.36036,     0.36136,     0.36236,     0.36336,     0.36436,     0.36537,     0.36637,     0.36737,     0.36837,     0.36937,     0.37037,     0.37137,     0.37237,     0.37337,     0.37437,     0.37538,     0.37638,     0.37738,     0.37838,     0.37938,     0.38038,     0.38138,     0.38238,     0.38338,\n",
       "           0.38438,     0.38539,     0.38639,     0.38739,     0.38839,     0.38939,     0.39039,     0.39139,     0.39239,     0.39339,     0.39439,      0.3954,      0.3964,      0.3974,      0.3984,      0.3994,      0.4004,      0.4014,      0.4024,      0.4034,      0.4044,     0.40541,     0.40641,     0.40741,\n",
       "           0.40841,     0.40941,     0.41041,     0.41141,     0.41241,     0.41341,     0.41441,     0.41542,     0.41642,     0.41742,     0.41842,     0.41942,     0.42042,     0.42142,     0.42242,     0.42342,     0.42442,     0.42543,     0.42643,     0.42743,     0.42843,     0.42943,     0.43043,     0.43143,\n",
       "           0.43243,     0.43343,     0.43443,     0.43544,     0.43644,     0.43744,     0.43844,     0.43944,     0.44044,     0.44144,     0.44244,     0.44344,     0.44444,     0.44545,     0.44645,     0.44745,     0.44845,     0.44945,     0.45045,     0.45145,     0.45245,     0.45345,     0.45445,     0.45546,\n",
       "           0.45646,     0.45746,     0.45846,     0.45946,     0.46046,     0.46146,     0.46246,     0.46346,     0.46446,     0.46547,     0.46647,     0.46747,     0.46847,     0.46947,     0.47047,     0.47147,     0.47247,     0.47347,     0.47447,     0.47548,     0.47648,     0.47748,     0.47848,     0.47948,\n",
       "           0.48048,     0.48148,     0.48248,     0.48348,     0.48448,     0.48549,     0.48649,     0.48749,     0.48849,     0.48949,     0.49049,     0.49149,     0.49249,     0.49349,     0.49449,      0.4955,      0.4965,      0.4975,      0.4985,      0.4995,      0.5005,      0.5015,      0.5025,      0.5035,\n",
       "            0.5045,     0.50551,     0.50651,     0.50751,     0.50851,     0.50951,     0.51051,     0.51151,     0.51251,     0.51351,     0.51451,     0.51552,     0.51652,     0.51752,     0.51852,     0.51952,     0.52052,     0.52152,     0.52252,     0.52352,     0.52452,     0.52553,     0.52653,     0.52753,\n",
       "           0.52853,     0.52953,     0.53053,     0.53153,     0.53253,     0.53353,     0.53453,     0.53554,     0.53654,     0.53754,     0.53854,     0.53954,     0.54054,     0.54154,     0.54254,     0.54354,     0.54454,     0.54555,     0.54655,     0.54755,     0.54855,     0.54955,     0.55055,     0.55155,\n",
       "           0.55255,     0.55355,     0.55455,     0.55556,     0.55656,     0.55756,     0.55856,     0.55956,     0.56056,     0.56156,     0.56256,     0.56356,     0.56456,     0.56557,     0.56657,     0.56757,     0.56857,     0.56957,     0.57057,     0.57157,     0.57257,     0.57357,     0.57457,     0.57558,\n",
       "           0.57658,     0.57758,     0.57858,     0.57958,     0.58058,     0.58158,     0.58258,     0.58358,     0.58458,     0.58559,     0.58659,     0.58759,     0.58859,     0.58959,     0.59059,     0.59159,     0.59259,     0.59359,     0.59459,      0.5956,      0.5966,      0.5976,      0.5986,      0.5996,\n",
       "            0.6006,      0.6016,      0.6026,      0.6036,      0.6046,     0.60561,     0.60661,     0.60761,     0.60861,     0.60961,     0.61061,     0.61161,     0.61261,     0.61361,     0.61461,     0.61562,     0.61662,     0.61762,     0.61862,     0.61962,     0.62062,     0.62162,     0.62262,     0.62362,\n",
       "           0.62462,     0.62563,     0.62663,     0.62763,     0.62863,     0.62963,     0.63063,     0.63163,     0.63263,     0.63363,     0.63463,     0.63564,     0.63664,     0.63764,     0.63864,     0.63964,     0.64064,     0.64164,     0.64264,     0.64364,     0.64464,     0.64565,     0.64665,     0.64765,\n",
       "           0.64865,     0.64965,     0.65065,     0.65165,     0.65265,     0.65365,     0.65465,     0.65566,     0.65666,     0.65766,     0.65866,     0.65966,     0.66066,     0.66166,     0.66266,     0.66366,     0.66466,     0.66567,     0.66667,     0.66767,     0.66867,     0.66967,     0.67067,     0.67167,\n",
       "           0.67267,     0.67367,     0.67467,     0.67568,     0.67668,     0.67768,     0.67868,     0.67968,     0.68068,     0.68168,     0.68268,     0.68368,     0.68468,     0.68569,     0.68669,     0.68769,     0.68869,     0.68969,     0.69069,     0.69169,     0.69269,     0.69369,     0.69469,      0.6957,\n",
       "            0.6967,      0.6977,      0.6987,      0.6997,      0.7007,      0.7017,      0.7027,      0.7037,      0.7047,     0.70571,     0.70671,     0.70771,     0.70871,     0.70971,     0.71071,     0.71171,     0.71271,     0.71371,     0.71471,     0.71572,     0.71672,     0.71772,     0.71872,     0.71972,\n",
       "           0.72072,     0.72172,     0.72272,     0.72372,     0.72472,     0.72573,     0.72673,     0.72773,     0.72873,     0.72973,     0.73073,     0.73173,     0.73273,     0.73373,     0.73473,     0.73574,     0.73674,     0.73774,     0.73874,     0.73974,     0.74074,     0.74174,     0.74274,     0.74374,\n",
       "           0.74474,     0.74575,     0.74675,     0.74775,     0.74875,     0.74975,     0.75075,     0.75175,     0.75275,     0.75375,     0.75475,     0.75576,     0.75676,     0.75776,     0.75876,     0.75976,     0.76076,     0.76176,     0.76276,     0.76376,     0.76476,     0.76577,     0.76677,     0.76777,\n",
       "           0.76877,     0.76977,     0.77077,     0.77177,     0.77277,     0.77377,     0.77477,     0.77578,     0.77678,     0.77778,     0.77878,     0.77978,     0.78078,     0.78178,     0.78278,     0.78378,     0.78478,     0.78579,     0.78679,     0.78779,     0.78879,     0.78979,     0.79079,     0.79179,\n",
       "           0.79279,     0.79379,     0.79479,      0.7958,      0.7968,      0.7978,      0.7988,      0.7998,      0.8008,      0.8018,      0.8028,      0.8038,      0.8048,     0.80581,     0.80681,     0.80781,     0.80881,     0.80981,     0.81081,     0.81181,     0.81281,     0.81381,     0.81481,     0.81582,\n",
       "           0.81682,     0.81782,     0.81882,     0.81982,     0.82082,     0.82182,     0.82282,     0.82382,     0.82482,     0.82583,     0.82683,     0.82783,     0.82883,     0.82983,     0.83083,     0.83183,     0.83283,     0.83383,     0.83483,     0.83584,     0.83684,     0.83784,     0.83884,     0.83984,\n",
       "           0.84084,     0.84184,     0.84284,     0.84384,     0.84484,     0.84585,     0.84685,     0.84785,     0.84885,     0.84985,     0.85085,     0.85185,     0.85285,     0.85385,     0.85485,     0.85586,     0.85686,     0.85786,     0.85886,     0.85986,     0.86086,     0.86186,     0.86286,     0.86386,\n",
       "           0.86486,     0.86587,     0.86687,     0.86787,     0.86887,     0.86987,     0.87087,     0.87187,     0.87287,     0.87387,     0.87487,     0.87588,     0.87688,     0.87788,     0.87888,     0.87988,     0.88088,     0.88188,     0.88288,     0.88388,     0.88488,     0.88589,     0.88689,     0.88789,\n",
       "           0.88889,     0.88989,     0.89089,     0.89189,     0.89289,     0.89389,     0.89489,      0.8959,      0.8969,      0.8979,      0.8989,      0.8999,      0.9009,      0.9019,      0.9029,      0.9039,      0.9049,     0.90591,     0.90691,     0.90791,     0.90891,     0.90991,     0.91091,     0.91191,\n",
       "           0.91291,     0.91391,     0.91491,     0.91592,     0.91692,     0.91792,     0.91892,     0.91992,     0.92092,     0.92192,     0.92292,     0.92392,     0.92492,     0.92593,     0.92693,     0.92793,     0.92893,     0.92993,     0.93093,     0.93193,     0.93293,     0.93393,     0.93493,     0.93594,\n",
       "           0.93694,     0.93794,     0.93894,     0.93994,     0.94094,     0.94194,     0.94294,     0.94394,     0.94494,     0.94595,     0.94695,     0.94795,     0.94895,     0.94995,     0.95095,     0.95195,     0.95295,     0.95395,     0.95495,     0.95596,     0.95696,     0.95796,     0.95896,     0.95996,\n",
       "           0.96096,     0.96196,     0.96296,     0.96396,     0.96496,     0.96597,     0.96697,     0.96797,     0.96897,     0.96997,     0.97097,     0.97197,     0.97297,     0.97397,     0.97497,     0.97598,     0.97698,     0.97798,     0.97898,     0.97998,     0.98098,     0.98198,     0.98298,     0.98398,\n",
       "           0.98498,     0.98599,     0.98699,     0.98799,     0.98899,     0.98999,     0.99099,     0.99199,     0.99299,     0.99399,     0.99499,       0.996,       0.997,       0.998,       0.999,           1]), array([[    0.85609,     0.85609,     0.85609,     0.85609,     0.85609,     0.85609,     0.85609,     0.85609,     0.85609,     0.85609,     0.85609,     0.85609,     0.85609,     0.85609,     0.85609,     0.85609,     0.85609,     0.85609,     0.85609,     0.85609,     0.85609,     0.85609,     0.85609,\n",
       "            0.85609,     0.85609,     0.85609,     0.85609,     0.85609,     0.85609,     0.85609,     0.85609,     0.85609,     0.85609,     0.85609,     0.85609,     0.85609,     0.85609,     0.85609,     0.85609,     0.85609,     0.85609,     0.85609,     0.85609,     0.85609,     0.85609,     0.85609,\n",
       "            0.85609,     0.85609,     0.85609,     0.85609,     0.85609,     0.85609,     0.85609,     0.85609,     0.85609,     0.85609,     0.85609,     0.85609,     0.85609,     0.85609,     0.85609,     0.85609,     0.85609,     0.85609,     0.85609,     0.85609,     0.85609,     0.85609,     0.85609,\n",
       "            0.85609,     0.85609,     0.85609,     0.85609,     0.85609,     0.85609,     0.85609,     0.85609,     0.85609,     0.85609,     0.85609,     0.85609,     0.85609,     0.85609,     0.85609,     0.85609,     0.85609,     0.85609,     0.85609,     0.85609,     0.85609,     0.85609,     0.85609,\n",
       "            0.85609,     0.85609,     0.85609,     0.85609,     0.85609,     0.85609,     0.85609,     0.85609,     0.85609,     0.85609,     0.85609,     0.85609,     0.85609,     0.85609,     0.85609,     0.85609,     0.85609,     0.85609,     0.85609,     0.85609,     0.85609,     0.85609,     0.85609,\n",
       "            0.85609,     0.85609,     0.85609,     0.85609,     0.85609,     0.85609,     0.85609,     0.85609,     0.85609,     0.85609,     0.85609,     0.85609,     0.85609,     0.85609,     0.85609,     0.85609,     0.85609,     0.85609,     0.85609,     0.85609,     0.85609,     0.85609,     0.85609,\n",
       "            0.85609,     0.85609,     0.85609,     0.85609,     0.85609,     0.85609,     0.85609,     0.85609,     0.85609,     0.85609,     0.85609,     0.85609,     0.85609,     0.85609,     0.85609,     0.85609,     0.85609,     0.85609,     0.85609,     0.85609,     0.85609,     0.85609,     0.85609,\n",
       "            0.85609,     0.85609,     0.85609,     0.85609,     0.85609,     0.85609,     0.85609,     0.85609,     0.85609,     0.85609,     0.85609,     0.85609,     0.85609,     0.85609,     0.85609,     0.85609,     0.85609,     0.85609,     0.85609,     0.85609,     0.85609,     0.85609,     0.85609,\n",
       "            0.85609,     0.85609,     0.85609,     0.85609,     0.85609,     0.85609,     0.85609,     0.85609,     0.85609,     0.85609,     0.85609,     0.85609,     0.85609,     0.85609,     0.85609,     0.85609,     0.85609,     0.85609,     0.85609,     0.85609,     0.85609,     0.85609,     0.85609,\n",
       "            0.85609,     0.85609,     0.85609,     0.85609,     0.85609,     0.85609,     0.85609,     0.85609,     0.85609,     0.85609,     0.85609,     0.85609,     0.85609,     0.85609,     0.85609,     0.85609,     0.85609,     0.85609,     0.85609,     0.85609,     0.85609,     0.85609,     0.85609,\n",
       "            0.85609,     0.85609,     0.85609,     0.85609,     0.85609,     0.85609,     0.85609,     0.85609,     0.85609,     0.85609,     0.85609,     0.85609,     0.85609,     0.85609,     0.85609,     0.85609,     0.85609,     0.85609,     0.85609,     0.85609,     0.85609,     0.85609,     0.85609,\n",
       "            0.85609,     0.85609,     0.85609,     0.85609,     0.85609,     0.85609,     0.85609,     0.85609,     0.85609,     0.85609,     0.85609,     0.85609,     0.85609,     0.85609,     0.85609,     0.85609,     0.85609,     0.85609,     0.85609,     0.85609,     0.85609,     0.85609,     0.85609,\n",
       "            0.85609,     0.85609,     0.85609,     0.85609,     0.85609,     0.85609,     0.85609,     0.85609,     0.85581,     0.85524,     0.85467,      0.8541,     0.85353,     0.85296,     0.85238,     0.85163,     0.85087,     0.85012,     0.84936,     0.84502,     0.84502,     0.84502,     0.84502,\n",
       "            0.84502,     0.84502,     0.84502,     0.84502,     0.84502,     0.84502,     0.84502,     0.84502,     0.84502,     0.84502,     0.84502,     0.84502,     0.84502,     0.84502,     0.84502,     0.84502,     0.84502,     0.84502,     0.84502,     0.84502,     0.84502,     0.84502,     0.84502,\n",
       "            0.84502,     0.84502,     0.84502,     0.84502,     0.84502,     0.84502,     0.84502,     0.84502,     0.84502,     0.84499,     0.84471,     0.84443,     0.84415,     0.84387,     0.84359,     0.84331,     0.84303,     0.84275,     0.84247,     0.84219,     0.84191,     0.84163,     0.84135,\n",
       "            0.84133,     0.83762,     0.83733,     0.83705,     0.83677,     0.83649,      0.8362,     0.83592,     0.83564,     0.83536,     0.83507,     0.83479,     0.83451,     0.83422,     0.83395,     0.83395,     0.83395,     0.83395,     0.83395,     0.83395,     0.83395,     0.83395,     0.83395,\n",
       "            0.83395,     0.83395,     0.83395,     0.83395,     0.83395,     0.83395,     0.83395,     0.83395,     0.83395,     0.83395,     0.83395,     0.83395,     0.83395,     0.83395,     0.83395,     0.83395,     0.83395,     0.83395,     0.83395,     0.83395,     0.83395,     0.83395,     0.83395,\n",
       "            0.83395,     0.83395,     0.83395,     0.83395,     0.83395,     0.83395,     0.83395,     0.83395,     0.83395,     0.83395,     0.83377,     0.83345,     0.83314,     0.83282,      0.8325,     0.83218,     0.83187,     0.83155,     0.83123,     0.83091,      0.8306,     0.83028,     0.83026,\n",
       "            0.83026,     0.83026,     0.83026,     0.83026,     0.83026,     0.83026,     0.83026,     0.83026,     0.83026,     0.83026,     0.83026,     0.83026,     0.83026,     0.83026,     0.83026,     0.83026,     0.83026,     0.82975,     0.82828,     0.82681,     0.82657,     0.82657,     0.82657,\n",
       "            0.82632,     0.82598,     0.82565,     0.82531,     0.82497,     0.82463,     0.82429,     0.82395,     0.82361,     0.82327,     0.82293,     0.82288,     0.82288,     0.81832,     0.81625,     0.81457,     0.81312,     0.81181,     0.81181,     0.81181,     0.81168,     0.81079,      0.8099,\n",
       "            0.80901,     0.80811,     0.80686,     0.80561,      0.8044,     0.80389,     0.80337,     0.80286,     0.80235,     0.80184,     0.80132,     0.80081,     0.80074,     0.80074,     0.79959,     0.79724,     0.79312,     0.79285,     0.79259,     0.79232,     0.79205,     0.79178,     0.79151,\n",
       "            0.79125,     0.79098,     0.79071,     0.79044,     0.79017,     0.78991,      0.7891,     0.78571,     0.78502,     0.78433,     0.78365,     0.78296,     0.78228,     0.78191,     0.78155,     0.78118,     0.78082,     0.78046,     0.78009,     0.77973,     0.77936,       0.779,     0.77863,\n",
       "            0.77491,     0.77491,     0.77491,     0.77491,     0.77491,     0.77491,     0.77491,     0.77453,     0.77411,     0.77368,     0.77326,     0.77283,     0.77241,     0.77198,     0.77156,     0.77091,      0.7694,      0.7679,     0.76737,     0.76715,     0.76694,     0.76672,     0.76651,\n",
       "            0.76629,     0.76607,     0.76586,     0.76564,     0.76543,     0.76521,       0.765,     0.76478,     0.76457,     0.76435,     0.76414,     0.76392,     0.76338,     0.76261,     0.76185,     0.76108,     0.76031,     0.76015,     0.76015,     0.76015,     0.76015,     0.76015,     0.76015,\n",
       "            0.76015,     0.76015,     0.76015,     0.76015,     0.76015,     0.75977,     0.75905,     0.75834,     0.75762,     0.75691,     0.75613,     0.75527,      0.7544,     0.75354,      0.7525,     0.75006,     0.74874,     0.74818,     0.74761,     0.74705,     0.74648,     0.74592,     0.74513,\n",
       "            0.73801,     0.73801,     0.73801,     0.73615,     0.73419,     0.73382,     0.73345,     0.73307,      0.7327,     0.73233,     0.73196,     0.73159,     0.73121,     0.73084,     0.73038,     0.72979,      0.7292,     0.72861,     0.72803,     0.72744,     0.72694,     0.72483,     0.72262,\n",
       "            0.72051,     0.71579,     0.71521,     0.71463,     0.71405,     0.71347,     0.71288,      0.7123,     0.70893,      0.7038,     0.70232,     0.70085,     0.69943,     0.69801,     0.69643,     0.69474,      0.6931,     0.69155,     0.68993,     0.68628,     0.68556,     0.68484,     0.68413,\n",
       "            0.68341,      0.6827,     0.68142,     0.68011,     0.67791,     0.67472,      0.6739,     0.67308,     0.67227,     0.67149,     0.67093,     0.67038,     0.66982,     0.66926,      0.6687,     0.66814,     0.66761,      0.6671,     0.66659,     0.66608,     0.66557,     0.66505,     0.66454,\n",
       "            0.65927,      0.6564,      0.6554,     0.65441,     0.65341,     0.65314,     0.65314,     0.65314,     0.65314,     0.65314,     0.65314,     0.65314,     0.65314,     0.65314,     0.65136,     0.64576,     0.64576,     0.64576,     0.64576,     0.64576,     0.64576,     0.64196,     0.64086,\n",
       "            0.63977,     0.63867,     0.63699,      0.6351,     0.63161,     0.62606,     0.62374,     0.62267,     0.62168,     0.62068,     0.61599,     0.61255,     0.61233,     0.61176,     0.61118,     0.61061,     0.61004,     0.60946,     0.60889,     0.60467,     0.60372,     0.60277,     0.60182,\n",
       "            0.59754,     0.59626,     0.59499,     0.58898,     0.58634,     0.58562,     0.58491,     0.58419,     0.58347,     0.58123,      0.5782,     0.57631,     0.57425,     0.57211,     0.56928,     0.56089,     0.56089,     0.56089,     0.56089,     0.55705,     0.55576,     0.55446,     0.55278,\n",
       "            0.54999,      0.5411,     0.53841,     0.53703,     0.53565,     0.53384,      0.5317,     0.52995,     0.52827,     0.52456,     0.51634,     0.51453,     0.51283,     0.51204,     0.51125,     0.51046,     0.50967,     0.50611,     0.50483,     0.50407,      0.5033,     0.50254,     0.50173,\n",
       "            0.50055,     0.49937,     0.49819,     0.49248,     0.48949,     0.48184,     0.47776,     0.47564,     0.47492,      0.4742,     0.47348,     0.47275,     0.47179,     0.47049,     0.46919,     0.46589,     0.46176,     0.45912,      0.4573,     0.45658,     0.45585,     0.45513,     0.45441,\n",
       "            0.45303,     0.45001,     0.44868,     0.44735,     0.44532,     0.44217,     0.43956,     0.43701,     0.43467,     0.43266,     0.42797,     0.42738,     0.42679,     0.42621,     0.42562,     0.42503,     0.42445,      0.4203,     0.41921,     0.41812,     0.41704,     0.41231,      0.4087,\n",
       "            0.40633,     0.40064,     0.39585,      0.3938,     0.39274,     0.39168,     0.39053,     0.38927,     0.38802,     0.38607,     0.38376,     0.38376,     0.38325,     0.38061,     0.37459,      0.3707,     0.36835,     0.36734,     0.36633,     0.36532,     0.35329,     0.34546,     0.34167,\n",
       "            0.33763,     0.33445,     0.33278,     0.32541,     0.32383,      0.3228,     0.32177,     0.31955,     0.31361,     0.30249,     0.30113,     0.29976,      0.2928,     0.28755,     0.28577,     0.28365,     0.27798,     0.26512,     0.26337,     0.26183,     0.26106,     0.26029,     0.25952,\n",
       "            0.25875,     0.25769,     0.25621,     0.25474,     0.25461,     0.24994,     0.24403,     0.23851,     0.23649,     0.23104,     0.22764,      0.2258,     0.22453,     0.22362,      0.2227,     0.22178,     0.21884,      0.2142,      0.2125,     0.21091,     0.20295,      0.2019,     0.19698,\n",
       "            0.19288,     0.18521,     0.17726,     0.17712,      0.1757,     0.17143,     0.16902,     0.16807,     0.16713,     0.16618,     0.16126,     0.15453,     0.14937,     0.14549,     0.14309,     0.14086,      0.1329,     0.13284,     0.12569,     0.12382,      0.1221,     0.12061,     0.11916,\n",
       "            0.11716,     0.11201,     0.10822,      0.1049,    0.098142,    0.093733,    0.088378,    0.087904,    0.087431,    0.086958,    0.086485,    0.086012,    0.085538,    0.085065,    0.082532,    0.080805,    0.080236,    0.079666,    0.079097,    0.078528,    0.077958,     0.07659,    0.069827,\n",
       "           0.062791,    0.056938,    0.053428,    0.047785,    0.046632,     0.04548,    0.044327,    0.042941,    0.041544,    0.040476,    0.040114,    0.039753,    0.039391,    0.039029,    0.038668,    0.038306,    0.037945,    0.037583,    0.037222,     0.03321,     0.03321,    0.030712,    0.028466,\n",
       "           0.026846,    0.025049,    0.022954,    0.021811,    0.021272,    0.020733,    0.020194,    0.019656,    0.019117,    0.018578,    0.018151,    0.017759,    0.017366,    0.016974,    0.016582,    0.016189,    0.015797,    0.015405,    0.015012,   0.0073111,   0.0065516,   0.0057921,   0.0050326,\n",
       "          0.0042731,           0,           0,           0,           0,           0,           0,           0,           0,           0,           0,           0,           0,           0,           0,           0,           0,           0,           0,           0,           0,           0,           0,\n",
       "                  0,           0,           0,           0,           0,           0,           0,           0,           0,           0,           0,           0,           0,           0,           0,           0,           0,           0,           0,           0,           0,           0,           0,\n",
       "                  0,           0,           0,           0,           0,           0,           0,           0,           0,           0,           0]]), 'Confidence', 'Recall']]\n",
       "fitness: 0.6412940081777254\n",
       "keys: ['metrics/precision(B)', 'metrics/recall(B)', 'metrics/mAP50(B)', 'metrics/mAP50-95(B)']\n",
       "maps: array([    0.61508])\n",
       "names: {0: 'garbage'}\n",
       "plot: True\n",
       "results_dict: {'metrics/precision(B)': 0.8964164926318506, 'metrics/recall(B)': 0.8302776031719861, 'metrics/mAP50(B)': 0.8772256740422042, 'metrics/mAP50-95(B)': 0.6150793786372277, 'fitness': 0.6412940081777254}\n",
       "save_dir: WindowsPath('garbage_detection/yolov8n9')\n",
       "speed: {'preprocess': 1.0189184615228442, 'inference': 57.2770211538507, 'loss': 0.00026653844822878734, 'postprocess': 0.4745123077065308}\n",
       "task: 'detect'"
      ]
     },
     "execution_count": 10,
     "metadata": {},
     "output_type": "execute_result"
    }
   ],
   "source": [
    "model.val(data=\"data.yaml\", conf=0.25, iou=0.6, project=\"garbage_detection\", name=\"yolov8n\", verbose=True, save_txt=True, save_conf=True, save_crop=True)"
   ]
  },
  {
   "cell_type": "code",
   "execution_count": null,
   "id": "741c1505",
   "metadata": {},
   "outputs": [
    {
     "name": "stdout",
     "output_type": "stream",
     "text": [
      "\n",
      "image 1/1 c:\\Users\\Gurudattaverma\\Desktop\\garbage_detection\\testf.jpeg: 640x480 3 garbages, 111.6ms\n",
      "Speed: 9.0ms preprocess, 111.6ms inference, 1.6ms postprocess per image at shape (1, 3, 640, 480)\n",
      "Results saved to \u001b[1mgarbage_detection\\yolov8n63\u001b[0m\n"
     ]
    },
    {
     "data": {
      "text/plain": [
       "[ultralytics.engine.results.Results object with attributes:\n",
       " \n",
       " boxes: ultralytics.engine.results.Boxes object\n",
       " keypoints: None\n",
       " masks: None\n",
       " names: {0: 'garbage'}\n",
       " obb: None\n",
       " orig_img: array([[[ 25,  83, 112],\n",
       "         [ 24,  82, 111],\n",
       "         [ 21,  82, 108],\n",
       "         ...,\n",
       "         [ 83, 111, 122],\n",
       "         [ 83, 111, 122],\n",
       "         [ 83, 111, 122]],\n",
       " \n",
       "        [[ 27,  85, 114],\n",
       "         [ 25,  83, 112],\n",
       "         [ 22,  83, 109],\n",
       "         ...,\n",
       "         [ 84, 112, 123],\n",
       "         [ 84, 112, 123],\n",
       "         [ 84, 112, 123]],\n",
       " \n",
       "        [[ 28,  87, 113],\n",
       "         [ 27,  86, 112],\n",
       "         [ 25,  84, 110],\n",
       "         ...,\n",
       "         [ 86, 114, 125],\n",
       "         [ 86, 114, 125],\n",
       "         [ 86, 114, 125]],\n",
       " \n",
       "        ...,\n",
       " \n",
       "        [[ 91,  99, 106],\n",
       "         [ 90,  98, 105],\n",
       "         [ 92, 100, 107],\n",
       "         ...,\n",
       "         [ 94, 106, 118],\n",
       "         [ 77,  89, 101],\n",
       "         [ 78,  90, 102]],\n",
       " \n",
       "        [[ 92, 100, 107],\n",
       "         [ 91,  99, 106],\n",
       "         [ 95, 103, 110],\n",
       "         ...,\n",
       "         [110, 124, 136],\n",
       "         [ 82,  96, 108],\n",
       "         [ 79,  93, 105]],\n",
       " \n",
       "        [[ 93, 101, 108],\n",
       "         [ 93, 101, 108],\n",
       "         [ 98, 106, 113],\n",
       "         ...,\n",
       "         [132, 146, 158],\n",
       "         [ 96, 110, 122],\n",
       "         [ 92, 106, 118]]], dtype=uint8)\n",
       " orig_shape: (1600, 1200)\n",
       " path: 'c:\\\\Users\\\\Gurudattaverma\\\\Desktop\\\\garbage_detection\\\\testf.jpeg'\n",
       " probs: None\n",
       " save_dir: 'garbage_detection\\\\yolov8n63'\n",
       " speed: {'preprocess': 8.9977000025101, 'inference': 111.63610000221524, 'postprocess': 1.6268999970634468}]"
      ]
     },
     "execution_count": 13,
     "metadata": {},
     "output_type": "execute_result"
    }
   ],
   "source": [
    "model.predict(\"testf.jpeg\", save=True, conf=0.4)"
   ]
  },
  {
   "cell_type": "code",
   "execution_count": null,
   "id": "8f704416",
   "metadata": {},
   "outputs": [],
   "source": [
    "# model = YOLO(\"garbage_detection/yolov8n6/weights/best.pt\")\n",
    "model = YOLO(\"best.onnx\", task=\"detect\")"
   ]
  },
  {
   "cell_type": "code",
   "execution_count": null,
   "id": "21af63b7",
   "metadata": {},
   "outputs": [],
   "source": [
    "image_path = \"test/images/photo_c655dc2b-176f-47c2-9b40-299e340e0488.jpg\""
   ]
  },
  {
   "cell_type": "code",
   "execution_count": null,
   "id": "026ecca1",
   "metadata": {},
   "outputs": [
    {
     "name": "stdout",
     "output_type": "stream",
     "text": [
      "Loading best.onnx for ONNX Runtime inference...\n",
      "Using ONNX Runtime CPUExecutionProvider\n",
      "\n",
      "image 1/1 /Users/ashirvadsatapathy/Desktop/garbage_detection.v17i.yolov8/test/images/photo_c655dc2b-176f-47c2-9b40-299e340e0488.jpg: 640x640 1 garbage, 38.8ms\n",
      "Speed: 6.1ms preprocess, 38.8ms inference, 18.0ms postprocess per image at shape (1, 3, 640, 640)\n",
      "Results saved to \u001b[1mgarbage_detection/yolov8n_predictions11\u001b[0m\n"
     ]
    }
   ],
   "source": [
    "result = model.predict(\n",
    "    image_path,\n",
    "    save=True,\n",
    "    conf=0.4,\n",
    "    project=\"garbage_detection\",\n",
    "    name=\"yolov8n_predictions\"\n",
    ")"
   ]
  },
  {
   "cell_type": "code",
   "execution_count": null,
   "id": "b84bab96",
   "metadata": {},
   "outputs": [],
   "source": [
    "# Load the image to get its dimensions\n",
    "image = cv2.imread(image_path)\n",
    "if image is None:\n",
    "    raise FileNotFoundError(f\"Image not found at {image_path}\")\n",
    "height, width = image.shape[:2]\n",
    "total_image_area = width * height"
   ]
  },
  {
   "cell_type": "code",
   "execution_count": null,
   "id": "c775c189",
   "metadata": {},
   "outputs": [
    {
     "name": "stdout",
     "output_type": "stream",
     "text": [
      "Individual Confidence Scores: [0.8563899993896484]\n",
      "Average Confidence: 85.64%\n",
      "Saved Result Image Path: garbage_detection/yolov8n_predictions/photo_c655dc2b-176f-47c2-9b40-299e340e0488.jpg\n"
     ]
    }
   ],
   "source": [
    "# Calculate union of bounding box areas and collect confidence scores\n",
    "confidence_scores = []\n",
    "mask = np.zeros((height, width), dtype=np.uint8)  # Binary mask for union\n",
    "for res in result:  # Iterate over list of Results objects\n",
    "    for box in res.boxes:  # Iterate over boxes in each Results object\n",
    "        # Get box coordinates (xmin, ymin, xmax, ymax)\n",
    "        xmin, ymin, xmax, ymax = map(int, box.xyxy[0])  # Convert to integers\n",
    "        # Ensure coordinates are within image bounds\n",
    "        xmin = max(0, min(xmin, width - 1))\n",
    "        xmax = max(0, min(xmax, width - 1))\n",
    "        ymin = max(0, min(ymin, height - 1))\n",
    "        ymax = max(0, min(ymax, height - 1))\n",
    "        # Set pixels in the box to 1 in the mask\n",
    "        if xmax > xmin and ymax > ymin:  # Valid box\n",
    "            mask[ymin:ymax, xmin:xmax] = 1\n",
    "        # Store confidence score\n",
    "        confidence_scores.append(float(box.conf))\n",
    "\n",
    "# Calculate total box area as the sum of non-zero pixels in the mask\n",
    "total_box_area = int(np.sum(mask))\n",
    "\n",
    "# Calculate average confidence\n",
    "avg_confidence = np.mean(confidence_scores) * 100 if confidence_scores else 0  # In percentage\n",
    "\n",
    "# Calculate area ratio\n",
    "area_ratio = total_box_area / total_image_area if total_image_area > 0 else 0\n",
    "area_ratio_str = f\"{area_ratio:.4f}\"  # Format to 4 decimal places\n",
    "percentage = area_ratio * 100\n",
    "\n",
    "# Get the saved image path\n",
    "filename = os.path.basename(image_path)\n",
    "save_dir = os.path.join(\"garbage_detection\", \"yolov8n_predictions\")\n",
    "saved_image_path = os.path.join(save_dir, filename)\n",
    "\n",
    "\n",
    "# Print confidence scores and average confidence\n",
    "print(\"Individual Confidence Scores:\", confidence_scores)\n",
    "print(f\"Average Confidence: {avg_confidence:.2f}%\")\n",
    "print(\"Saved Result Image Path:\", saved_image_path)"
   ]
  },
  {
   "cell_type": "code",
   "execution_count": null,
   "id": "8e03328d",
   "metadata": {},
   "outputs": [
    {
     "name": "stdout",
     "output_type": "stream",
     "text": [
      "{\n",
      "    \"totalImageArea\": 1116170,\n",
      "    \"totalBoxArea\": 527276,\n",
      "    \"areaRatio\": \"0.4724\",\n",
      "    \"message\": \"I am 85.64% sure it's 47.24% garbage area detected\"\n",
      "}\n",
      "[ultralytics.engine.results.Results object with attributes:\n",
      "\n",
      "boxes: ultralytics.engine.results.Boxes object\n",
      "keypoints: None\n",
      "masks: None\n",
      "names: {0: 'garbage'}\n",
      "obb: None\n",
      "orig_img: array([[[  5,   4, 238],\n",
      "        [ 43,  44, 218],\n",
      "        [203, 210, 255],\n",
      "        ...,\n",
      "        [222, 205, 179],\n",
      "        [223, 206, 180],\n",
      "        [223, 206, 180]],\n",
      "\n",
      "       [[  6,   5, 239],\n",
      "        [ 44,  45, 219],\n",
      "        [204, 211, 255],\n",
      "        ...,\n",
      "        [223, 206, 180],\n",
      "        [223, 206, 180],\n",
      "        [224, 207, 181]],\n",
      "\n",
      "       [[  7,   6, 240],\n",
      "        [ 45,  46, 220],\n",
      "        [204, 211, 255],\n",
      "        ...,\n",
      "        [230, 210, 185],\n",
      "        [230, 210, 185],\n",
      "        [230, 210, 185]],\n",
      "\n",
      "       ...,\n",
      "\n",
      "       [[  1,   1,   1],\n",
      "        [  1,   1,   1],\n",
      "        [  1,   1,   1],\n",
      "        ...,\n",
      "        [  1,   1,   1],\n",
      "        [  1,   1,   1],\n",
      "        [  1,   1,   1]],\n",
      "\n",
      "       [[  1,   1,   1],\n",
      "        [  1,   1,   1],\n",
      "        [  1,   1,   1],\n",
      "        ...,\n",
      "        [  1,   1,   1],\n",
      "        [  1,   1,   1],\n",
      "        [  1,   1,   1]],\n",
      "\n",
      "       [[  1,   1,   1],\n",
      "        [  1,   1,   1],\n",
      "        [  1,   1,   1],\n",
      "        ...,\n",
      "        [  1,   1,   1],\n",
      "        [  1,   1,   1],\n",
      "        [  1,   1,   1]]], dtype=uint8)\n",
      "orig_shape: (1390, 803)\n",
      "path: '/Users/ashirvadsatapathy/Desktop/garbage_detection.v17i.yolov8/test/images/photo_c655dc2b-176f-47c2-9b40-299e340e0488.jpg'\n",
      "probs: None\n",
      "save_dir: 'garbage_detection/yolov8n_predictions11'\n",
      "speed: {'preprocess': 6.114792020525783, 'inference': 38.84333299356513, 'postprocess': 17.950542009202763}]\n"
     ]
    }
   ],
   "source": [
    "# Create JSON output\n",
    "output = {\n",
    "    \"totalImageArea\": int(total_image_area),\n",
    "    \"totalBoxArea\": int(total_box_area),\n",
    "    \"areaRatio\": area_ratio_str,\n",
    "    \"message\": f\"I am {avg_confidence:.2f}% sure it's {percentage:.2f}% garbage area detected\"\n",
    "}\n",
    "\n",
    "# Print JSON output\n",
    "print(json.dumps(output, indent=4))\n",
    "print(result)"
   ]
  }
 ],
 "metadata": {
  "kernelspec": {
   "display_name": "Python 3",
   "language": "python",
   "name": "python3"
  },
  "language_info": {
   "codemirror_mode": {
    "name": "ipython",
    "version": 3
   },
   "file_extension": ".py",
   "mimetype": "text/x-python",
   "name": "python",
   "nbconvert_exporter": "python",
   "pygments_lexer": "ipython3",
   "version": "3.9.6"
  }
 },
 "nbformat": 4,
 "nbformat_minor": 5
}
